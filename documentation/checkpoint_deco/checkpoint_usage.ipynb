{
 "cells": [
  {
   "cell_type": "code",
   "execution_count": 1,
   "metadata": {
    "execution": {
     "iopub.execute_input": "2024-12-11T14:09:13.161885Z",
     "iopub.status.busy": "2024-12-11T14:09:13.161668Z",
     "iopub.status.idle": "2024-12-11T14:09:13.167527Z",
     "shell.execute_reply": "2024-12-11T14:09:13.167104Z"
    }
   },
   "outputs": [
    {
     "name": "stdout",
     "output_type": "stream",
     "text": [
      "env: METAFLOW_PROFILE=dev-valay\n",
      "env: METAFLOW_UI_URL=\n"
     ]
    }
   ],
   "source": [
    "#meta:tag=hide\n",
    "%env METAFLOW_PROFILE=dev-valay\n",
    "%env METAFLOW_UI_URL=\n"
   ]
  },
  {
   "cell_type": "code",
   "execution_count": 2,
   "metadata": {
    "execution": {
     "iopub.execute_input": "2024-12-11T14:09:13.199538Z",
     "iopub.status.busy": "2024-12-11T14:09:13.199133Z",
     "iopub.status.idle": "2024-12-11T14:09:13.201897Z",
     "shell.execute_reply": "2024-12-11T14:09:13.201458Z"
    }
   },
   "outputs": [],
   "source": [
    "#meta:tag=hide\n",
    "import os\n",
    "os.makedirs(\"temp_files\", exist_ok=True)\n"
   ]
  },
  {
   "cell_type": "markdown",
   "metadata": {},
   "source": [
    "# `@checkpoint`\n"
   ]
  },
  {
   "cell_type": "markdown",
   "metadata": {},
   "source": [
    "<!-- START doctoc -->\n",
    "<!-- END doctoc -->\n"
   ]
  },
  {
   "cell_type": "markdown",
   "metadata": {},
   "source": [
    "## Introduction \n",
    "\n",
    "Metaflow naturally allows passing state around between `@step`s via the means of [Data Artifacts](https://docs.metaflow.org/metaflow/client#accessing-data) (i.e. values set to `self`). This means that when user code in a @step completes execution, all the values set to `self` are automatically saved as a Data Artifact and those are accessible to the next `@step`s. Such persistence of state allows users to [\"resume\" code execution](https://docs.metaflow.org/metaflow/debugging#how-to-use-the-resume-command) from a particular `@step` in case the user code crashes for some reason. \n",
    "\n",
    "However there may be scenarios where a user's `@step` will run for a very long duration and there are no natural boundaries to breakup this function. In such cases, the user may want to save the state of the function periodically and if the `@step` crashes, then the desired behavior would be to resume execution from the last saved state. This can be particularly useful when users use an `@retry` decorator. \n",
    "\n",
    "The `@checkpoint` decorator provides this functionality by allowing users to save intermediate state during `@step` execution. For example, consider a scenario where a user is training a large deep learning model that takes several hours to train. The user may want to save the model weights periodically during training so that if the training crashes, they can resume from the last saved checkpoint rather than starting from scratch. The `@checkpoint` decorator provides this functionality by allowing users to save intermediate state during `@step` execution.\n",
    " \n",
    "Another common use case is when processing large datasets in batches. Users may want to checkpoint after processing each batch so that if there's a failure, they can resume from the last successfully processed batch rather than reprocessing everything from the beginning.The `@checkpoint` decorator is particularly powerful when combined with `@retry` - if a step fails, it will retry from the last checkpoint rather than from the very beginning of the step. This can significantly reduce recovery time and resource usage when dealing with long-running computations."
   ]
  },
  {
   "cell_type": "markdown",
   "metadata": {},
   "source": [
    "## Functional Overview\n",
    "\n",
    "The `@checkpoint` decorator provides a simple way to save and load checkpoints within your Metaflow steps. It's particularly useful for machine learning workflows where you need to save model states, handle failures, and resume training. This can also be useful for any other form of long-running computation where users want to save the state of the computation periodically so that it can be resumed later. \n",
    "\n",
    "The `@checkpoint` decorator injects a `checkpoint` object in Metaflow's `current` object. This `checkpoint` object provides the `save` method that can _save any state present on disk_. Incase the `@step` crashes and retries, this previously saved checkpoint will be loaded to a directory that is exposed via the `current.checkpoint.directory` property. All checkpoints saved are scoped to the `@step` they are created in. All checkpoints are saved under the execution's [namespace](https://docs.metaflow.org/scaling/tagging#namespaces). This also implies that what ever checkpoint gets reloaded in subsequent retries will be for the same `@step` and under the same namespace.\n"
   ]
  },
  {
   "cell_type": "markdown",
   "metadata": {},
   "source": [
    "### Simple Example\n",
    "\n",
    "Consider the below example. The `count_values` `@step` will keep incrementing a `counter` until it reaches a certain value. At the end of the `@step`, if the counter has not reached a threshold value then the `@step` will crash. A `@retry` decorator is also added to the `@step` to retry the function in case it crashes. The `@checkpoint` decorator is used to save the state of the counter during the iterations and if the `@step` crashes, the `current.checkpoint.directory` will be populated with the last saved checkpoint. The contents of the counter present in this directory are loaded if the checkpoint is loaded. If a checkpoint is loaded for a `@step`, the `current.checkpoint.is_loaded` property will be set to `True`. The info about the checkpoint will be accessible via the `current.checkpoint.info` property.\n",
    "\n",
    "Calling `current.checkpoint.save()` will save the contents of the `current.checkpoint.directory` to the datastore. The return value of this method is a reference to the checkpoint that was created. This reference can be loaded in later steps or within the same step upon retries. The `save` method can even take the following optional arguments:\n",
    "- `path` : A custom path to a directory/file that will be saved as a checkpoint \n",
    "- `metadata` : A dictionary of metadata that to be saved with the checkpoint\n",
    "- `name` : A custom name for the checkpoint to distinguish between different checkpoints created during a step \n",
    "- `latest` : A boolean flag to indicate if this checkpoint should be marked as the latest checkpoint. This will be checkpoint that will be reloaded by default unless the user specifies different settings in the `@checkpoint` decorator.\n",
    "\n"
   ]
  },
  {
   "cell_type": "code",
   "execution_count": 3,
   "metadata": {
    "execution": {
     "iopub.execute_input": "2024-12-11T14:09:13.204009Z",
     "iopub.status.busy": "2024-12-11T14:09:13.203596Z",
     "iopub.status.idle": "2024-12-11T14:09:13.207850Z",
     "shell.execute_reply": "2024-12-11T14:09:13.207443Z"
    }
   },
   "outputs": [
    {
     "name": "stdout",
     "output_type": "stream",
     "text": [
      "Overwriting temp_files/checkpoint_basic.py\n"
     ]
    }
   ],
   "source": [
    "%%writefile temp_files/checkpoint_basic.py\n",
    "#meta:tag=hide_output\n",
    "from metaflow import FlowSpec, current, step, retry, checkpoint\n",
    "import os\n",
    "import time \n",
    "\n",
    "MAX_RETRIES = 5\n",
    "\n",
    "class CheckpointSimpleFlow(FlowSpec):\n",
    "\n",
    "    continue_until = 15\n",
    "\n",
    "    @step #meta_hide_line\n",
    "    def start(self):#meta_hide_line\n",
    "        self.next(self.count_values)#meta_hide_line\n",
    "\n",
    "    @checkpoint\n",
    "    @retry(times=4)\n",
    "    @step\n",
    "    def count_values(self):\n",
    "        counter = 0\n",
    "        _file_path = os.path.join(\n",
    "            current.checkpoint.directory, \n",
    "            \"counter.txt\"\n",
    "        )\n",
    "        if current.checkpoint.is_loaded and os.path.exists(_file_path):\n",
    "            # Load the file written by a previous execution of the step\n",
    "            checkpoint_info = current.checkpoint.info\n",
    "            file = _read_file(_file_path)\n",
    "            print(\"Loaded a checkpoint from pathspec %s, attempt %s\" % (checkpoint_info.pathspec, checkpoint_info.attempt))\n",
    "            print(\n",
    "                \"reading the counter value from the file\",\n",
    "                file,\n",
    "            )\n",
    "            counter = int(file)\n",
    "\n",
    "        per_retry_range = 10\n",
    "        for i in range(counter, counter + per_retry_range):\n",
    "            counter = i\n",
    "            _write_file(_file_path, str(i))\n",
    "            # `current.checkpoint.save` will save everything in the\n",
    "            # `current.checkpoint.directory`\n",
    "            # Saving implies the objects are saved in the datastore\n",
    "            # Saving a checkpoint will return a reference to the checkpoint\n",
    "            self.final_checkpoint = current.checkpoint.save()\n",
    "            time.sleep(0.1)\n",
    "            \n",
    "        print(\"Current value of counter\", counter)\n",
    "        if self.continue_until > counter:\n",
    "            raise ValueError(\"retry\")\n",
    "\n",
    "        self.next(self.end)\n",
    "\n",
    "    @step #meta_hide_line\n",
    "    def end(self):#meta_hide_line\n",
    "        pass #meta_hide_line\n",
    "\n",
    "def _read_file(path):#meta_hide_line\n",
    "    with open(path, \"r\") as f:#meta_hide_line\n",
    "        return f.read().strip()#meta_hide_line\n",
    "\n",
    "def _write_file(path, contents):#meta_hide_line\n",
    "    with open(path, \"w\") as f:#meta_hide_line\n",
    "        f.write(contents)#meta_hide_line\n",
    "\n",
    "if __name__ == \"__main__\": #meta_hide_line\n",
    "    CheckpointSimpleFlow() #meta_hide_line\n"
   ]
  },
  {
   "cell_type": "code",
   "execution_count": 4,
   "metadata": {
    "execution": {
     "iopub.execute_input": "2024-12-11T14:09:13.209817Z",
     "iopub.status.busy": "2024-12-11T14:09:13.209436Z",
     "iopub.status.idle": "2024-12-11T14:10:13.364557Z",
     "shell.execute_reply": "2024-12-11T14:10:13.363637Z"
    }
   },
   "outputs": [
    {
     "name": "stdout",
     "output_type": "stream",
     "text": [
      "\u001b[35m\u001b[1mMetaflow 2.12.36.post9-git09d02cb-dirty+obcheckpoint(0.1.4);ob(v1)\u001b[0m\u001b[35m\u001b[22m executing \u001b[0m\u001b[31m\u001b[1mCheckpointSimpleFlow\u001b[0m\u001b[35m\u001b[22m\u001b[0m\u001b[35m\u001b[22m for \u001b[0m\u001b[31m\u001b[1muser:valay@outerbounds.co\u001b[0m\u001b[35m\u001b[22m\u001b[K\u001b[0m\u001b[35m\u001b[22m\u001b[0m\r\n"
     ]
    },
    {
     "name": "stdout",
     "output_type": "stream",
     "text": [
      "\u001b[35m\u001b[22mValidating your flow...\u001b[K\u001b[0m\u001b[35m\u001b[22m\u001b[0m\r\n",
      "\u001b[32m\u001b[1m    The graph looks good!\u001b[K\u001b[0m\u001b[32m\u001b[1m\u001b[0m\r\n",
      "\u001b[35m\u001b[22mRunning pylint...\u001b[K\u001b[0m\u001b[35m\u001b[22m\u001b[0m\r\n"
     ]
    },
    {
     "name": "stdout",
     "output_type": "stream",
     "text": [
      "\u001b[32m\u001b[1m    Pylint is happy!\u001b[K\u001b[0m\u001b[32m\u001b[1m\u001b[0m\r\n"
     ]
    },
    {
     "name": "stdout",
     "output_type": "stream",
     "text": [
      "\u001b[35m2024-12-11 06:09:18.422 \u001b[0m\u001b[1mWorkflow starting (run-id 7453):\u001b[0m\r\n"
     ]
    },
    {
     "name": "stdout",
     "output_type": "stream",
     "text": [
      "\u001b[35m2024-12-11 06:09:19.557 \u001b[0m\u001b[32m[7453/start/47439 (pid 2203169)] \u001b[0m\u001b[1mTask is starting.\u001b[0m\r\n"
     ]
    },
    {
     "name": "stdout",
     "output_type": "stream",
     "text": [
      "\u001b[35m2024-12-11 06:09:21.586 \u001b[0m\u001b[32m[7453/start/47439 (pid 2203169)] \u001b[0m\u001b[1mTask finished successfully.\u001b[0m\r\n"
     ]
    },
    {
     "name": "stdout",
     "output_type": "stream",
     "text": [
      "\u001b[35m2024-12-11 06:09:21.843 \u001b[0m\u001b[32m[7453/count_values/47440 (pid 2203250)] \u001b[0m\u001b[1mTask is starting.\u001b[0m\r\n"
     ]
    },
    {
     "name": "stdout",
     "output_type": "stream",
     "text": [
      "\u001b[35m2024-12-11 06:09:36.330 \u001b[0m\u001b[32m[7453/count_values/47440 (pid 2203250)] \u001b[0m\u001b[22mCurrent value of counter 9\u001b[0m\r\n"
     ]
    },
    {
     "name": "stdout",
     "output_type": "stream",
     "text": [
      "\u001b[35m2024-12-11 06:09:41.164 \u001b[0m\u001b[32m[7453/count_values/47440 (pid 2203250)] \u001b[0m\u001b[22m<flow CheckpointSimpleFlow step count_values> failed:\u001b[0m\r\n"
     ]
    },
    {
     "name": "stdout",
     "output_type": "stream",
     "text": [
      "\u001b[35m2024-12-11 06:09:43.680 \u001b[0m\u001b[32m[7453/count_values/47440 (pid 2203250)] \u001b[0m\u001b[22mInternal error\u001b[0m\r\n",
      "\u001b[35m2024-12-11 06:09:43.681 \u001b[0m\u001b[32m[7453/count_values/47440 (pid 2203250)] \u001b[0m\u001b[22mTraceback (most recent call last):\u001b[0m\r\n",
      "\u001b[35m2024-12-11 06:09:43.682 \u001b[0m\u001b[32m[7453/count_values/47440 (pid 2203250)] \u001b[0m\u001b[22mFile \"/home/ubuntu/metaflow/metaflow/cli.py\", line 1167, in main\u001b[0m\r\n",
      "\u001b[35m2024-12-11 06:09:43.682 \u001b[0m\u001b[32m[7453/count_values/47440 (pid 2203250)] \u001b[0m\u001b[22mstart(auto_envvar_prefix=\"METAFLOW\", obj=state)\u001b[0m\r\n",
      "\u001b[35m2024-12-11 06:09:43.682 \u001b[0m\u001b[32m[7453/count_values/47440 (pid 2203250)] \u001b[0m\u001b[22mFile \"/home/ubuntu/metaflow/metaflow/tracing/tracing_modules.py\", line 111, in wrapper_func\u001b[0m\r\n",
      "\u001b[35m2024-12-11 06:09:43.682 \u001b[0m\u001b[32m[7453/count_values/47440 (pid 2203250)] \u001b[0m\u001b[22mreturn func(args, kwargs)\u001b[0m\r\n",
      "\u001b[35m2024-12-11 06:09:43.682 \u001b[0m\u001b[32m[7453/count_values/47440 (pid 2203250)] \u001b[0m\u001b[22m^^^^^^^^^^^^^^^^^^^^^\u001b[0m\r\n",
      "\u001b[35m2024-12-11 06:09:43.682 \u001b[0m\u001b[32m[7453/count_values/47440 (pid 2203250)] \u001b[0m\u001b[22mFile \"/home/ubuntu/metaflow/metaflow/_vendor/click/core.py\", line 829, in __call__\u001b[0m\r\n",
      "\u001b[35m2024-12-11 06:09:43.682 \u001b[0m\u001b[32m[7453/count_values/47440 (pid 2203250)] \u001b[0m\u001b[22mreturn self.main(args, kwargs)\u001b[0m\r\n"
     ]
    },
    {
     "name": "stdout",
     "output_type": "stream",
     "text": [
      "\u001b[35m2024-12-11 06:09:43.868 \u001b[0m\u001b[32m[7453/count_values/47440 (pid 2203250)] \u001b[0m\u001b[22m^^^^^^^^^^^^^^^^^^^^^^^^^^\u001b[0m\r\n",
      "\u001b[35m2024-12-11 06:09:43.868 \u001b[0m\u001b[32m[7453/count_values/47440 (pid 2203250)] \u001b[0m\u001b[22mFile \"/home/ubuntu/metaflow/metaflow/_vendor/click/core.py\", line 782, in main\u001b[0m\r\n",
      "\u001b[35m2024-12-11 06:09:43.868 \u001b[0m\u001b[32m[7453/count_values/47440 (pid 2203250)] \u001b[0m\u001b[22mrv = self.invoke(ctx)\u001b[0m\r\n",
      "\u001b[35m2024-12-11 06:09:43.868 \u001b[0m\u001b[32m[7453/count_values/47440 (pid 2203250)] \u001b[0m\u001b[22m^^^^^^^^^^^^^^^^\u001b[0m\r\n",
      "\u001b[35m2024-12-11 06:09:43.868 \u001b[0m\u001b[32m[7453/count_values/47440 (pid 2203250)] \u001b[0m\u001b[22mFile \"/home/ubuntu/metaflow/metaflow/_vendor/click/core.py\", line 1259, in invoke\u001b[0m\r\n",
      "\u001b[35m2024-12-11 06:09:43.868 \u001b[0m\u001b[32m[7453/count_values/47440 (pid 2203250)] \u001b[0m\u001b[22mreturn _process_result(sub_ctx.command.invoke(sub_ctx))\u001b[0m\r\n",
      "\u001b[35m2024-12-11 06:09:43.868 \u001b[0m\u001b[32m[7453/count_values/47440 (pid 2203250)] \u001b[0m\u001b[22m^^^^^^^^^^^^^^^^^^^^^^^^^^^^^^^\u001b[0m\r\n",
      "\u001b[35m2024-12-11 06:09:43.868 \u001b[0m\u001b[32m[7453/count_values/47440 (pid 2203250)] \u001b[0m\u001b[22mFile \"/home/ubuntu/metaflow/metaflow/_vendor/click/core.py\", line 1066, in invoke\u001b[0m\r\n",
      "\u001b[35m2024-12-11 06:09:43.869 \u001b[0m\u001b[32m[7453/count_values/47440 (pid 2203250)] \u001b[0m\u001b[22mreturn ctx.invoke(self.callback, ctx.params)\u001b[0m\r\n",
      "\u001b[35m2024-12-11 06:09:43.869 \u001b[0m\u001b[32m[7453/count_values/47440 (pid 2203250)] \u001b[0m\u001b[22m^^^^^^^^^^^^^^^^^^^^^^^^^^^^^^^^^^^^^^^\u001b[0m\r\n",
      "\u001b[35m2024-12-11 06:09:43.869 \u001b[0m\u001b[32m[7453/count_values/47440 (pid 2203250)] \u001b[0m\u001b[22mFile \"/home/ubuntu/metaflow/metaflow/_vendor/click/core.py\", line 610, in invoke\u001b[0m\r\n",
      "\u001b[35m2024-12-11 06:09:43.869 \u001b[0m\u001b[32m[7453/count_values/47440 (pid 2203250)] \u001b[0m\u001b[22mreturn callback(args, kwargs)\u001b[0m\r\n",
      "\u001b[35m2024-12-11 06:09:43.869 \u001b[0m\u001b[32m[7453/count_values/47440 (pid 2203250)] \u001b[0m\u001b[22m^^^^^^^^^^^^^^^^^^^^^^^^^\u001b[0m\r\n",
      "\u001b[35m2024-12-11 06:09:43.869 \u001b[0m\u001b[32m[7453/count_values/47440 (pid 2203250)] \u001b[0m\u001b[22mFile \"/home/ubuntu/metaflow/metaflow/_vendor/click/decorators.py\", line 21, in new_func\u001b[0m\r\n",
      "\u001b[35m2024-12-11 06:09:43.869 \u001b[0m\u001b[32m[7453/count_values/47440 (pid 2203250)] \u001b[0m\u001b[22mreturn f(get_current_context(), args, kwargs)\u001b[0m\r\n",
      "\u001b[35m2024-12-11 06:09:43.869 \u001b[0m\u001b[32m[7453/count_values/47440 (pid 2203250)] \u001b[0m\u001b[22m^^^^^^^^^^^^^^^^^^^^^^^^^^^^^^^^^^^^^^^^^\u001b[0m\r\n",
      "\u001b[35m2024-12-11 06:09:43.869 \u001b[0m\u001b[32m[7453/count_values/47440 (pid 2203250)] \u001b[0m\u001b[22mFile \"/home/ubuntu/metaflow/metaflow/cli.py\", line 469, in step\u001b[0m\r\n",
      "\u001b[35m2024-12-11 06:09:43.869 \u001b[0m\u001b[32m[7453/count_values/47440 (pid 2203250)] \u001b[0m\u001b[22mtask.run_step(\u001b[0m\r\n",
      "\u001b[35m2024-12-11 06:09:43.869 \u001b[0m\u001b[32m[7453/count_values/47440 (pid 2203250)] \u001b[0m\u001b[22mFile \"/home/ubuntu/metaflow/metaflow/task.py\", line 653, in run_step\u001b[0m\r\n",
      "\u001b[35m2024-12-11 06:09:43.869 \u001b[0m\u001b[32m[7453/count_values/47440 (pid 2203250)] \u001b[0m\u001b[22mself._exec_step_function(step_func)\u001b[0m\r\n",
      "\u001b[35m2024-12-11 06:09:43.869 \u001b[0m\u001b[32m[7453/count_values/47440 (pid 2203250)] \u001b[0m\u001b[22mFile \"/home/ubuntu/metaflow/metaflow/task.py\", line 62, in _exec_step_function\u001b[0m\r\n",
      "\u001b[35m2024-12-11 06:09:43.869 \u001b[0m\u001b[32m[7453/count_values/47440 (pid 2203250)] \u001b[0m\u001b[22mstep_function()\u001b[0m\r\n",
      "\u001b[35m2024-12-11 06:09:43.869 \u001b[0m\u001b[32m[7453/count_values/47440 (pid 2203250)] \u001b[0m\u001b[22mFile \"/home/ubuntu/metaflow-checkpoint/metaflow_extensions/obcheckpoint/plugins/machine_learning_utilities/checkpoints/decorator.py\", line 592, in _wrapped_step_func\u001b[0m\r\n",
      "\u001b[35m2024-12-11 06:09:43.869 \u001b[0m\u001b[32m[7453/count_values/47440 (pid 2203250)] \u001b[0m\u001b[22mreturn step_func(args, kwargs)\u001b[0m\r\n",
      "\u001b[35m2024-12-11 06:09:43.869 \u001b[0m\u001b[32m[7453/count_values/47440 (pid 2203250)] \u001b[0m\u001b[22m^^^^^^^^^^^^^^^^^^^^^^^^^^\u001b[0m\r\n",
      "\u001b[35m2024-12-11 06:09:43.869 \u001b[0m\u001b[32m[7453/count_values/47440 (pid 2203250)] \u001b[0m\u001b[22mFile \"/home/ubuntu/metaflow-checkpoint-examples/documentation/checkpoint_deco/temp_files/checkpoint_basic.py\", line 49, in count_values\u001b[0m\r\n",
      "\u001b[35m2024-12-11 06:09:43.869 \u001b[0m\u001b[32m[7453/count_values/47440 (pid 2203250)] \u001b[0m\u001b[22mraise ValueError(\"retry\")\u001b[0m\r\n",
      "\u001b[35m2024-12-11 06:09:43.869 \u001b[0m\u001b[32m[7453/count_values/47440 (pid 2203250)] \u001b[0m\u001b[22mValueError: retry\u001b[0m\r\n",
      "\u001b[35m2024-12-11 06:09:43.869 \u001b[0m\u001b[32m[7453/count_values/47440 (pid 2203250)] \u001b[0m\u001b[22m\u001b[0m\r\n"
     ]
    },
    {
     "name": "stdout",
     "output_type": "stream",
     "text": [
      "\u001b[35m2024-12-11 06:09:43.975 \u001b[0m\u001b[32m[7453/count_values/47440 (pid 2203250)] \u001b[0m\u001b[1mTask failed.\u001b[0m\r\n"
     ]
    },
    {
     "name": "stdout",
     "output_type": "stream",
     "text": [
      "\u001b[35m2024-12-11 06:09:44.102 \u001b[0m\u001b[32m[7453/count_values/47440 (pid 2204262)] \u001b[0m\u001b[1mTask is starting (retry).\u001b[0m\r\n"
     ]
    },
    {
     "name": "stdout",
     "output_type": "stream",
     "text": [
      "\u001b[35m2024-12-11 06:09:45.287 \u001b[0m\u001b[32m[7453/count_values/47440 (pid 2204262)] \u001b[0m\u001b[22m[@checkpoint] Loading the following checkpoint:\u001b[0m\r\n"
     ]
    },
    {
     "name": "stdout",
     "output_type": "stream",
     "text": [
      "\u001b[35m2024-12-11 06:09:46.579 \u001b[0m\u001b[32m[7453/count_values/47440 (pid 2204262)] \u001b[0m\u001b[22m[pathspec] CheckpointSimpleFlow/7453/count_values/47440\u001b[0m\r\n",
      "\u001b[35m2024-12-11 06:09:46.579 \u001b[0m\u001b[32m[7453/count_values/47440 (pid 2204262)] \u001b[0m\u001b[22m[key] mf.checkpoints/checkpoints/artifacts/CheckpointSimpleFlow/count_values/26ec4b03ee0e/6ed314b634c7/1e2df857.0.mfchckpt.9\u001b[0m\r\n",
      "\u001b[35m2024-12-11 06:09:46.579 \u001b[0m\u001b[32m[7453/count_values/47440 (pid 2204262)] \u001b[0m\u001b[22m[created on] 2024-12-11T06:09:36.055073\u001b[0m\r\n",
      "\u001b[35m2024-12-11 06:09:46.579 \u001b[0m\u001b[32m[7453/count_values/47440 (pid 2204262)] \u001b[0m\u001b[22m[url] s3://obp-475b0e-metaflow/metaflow/mf.checkpoints/checkpoints/artifacts/CheckpointSimpleFlow/count_values/26ec4b03ee0e/6ed314b634c7/1e2df857.0.mfchckpt.9\u001b[0m\r\n",
      "\u001b[35m2024-12-11 06:09:46.579 \u001b[0m\u001b[32m[7453/count_values/47440 (pid 2204262)] \u001b[0m\u001b[22mLoaded a checkpoint from pathspec CheckpointSimpleFlow/7453/count_values/47440, attempt 0\u001b[0m\r\n"
     ]
    },
    {
     "name": "stdout",
     "output_type": "stream",
     "text": [
      "\u001b[35m2024-12-11 06:09:59.759 \u001b[0m\u001b[32m[7453/count_values/47440 (pid 2204262)] \u001b[0m\u001b[22mreading the counter value from the file 9\u001b[0m\r\n",
      "\u001b[35m2024-12-11 06:09:59.759 \u001b[0m\u001b[32m[7453/count_values/47440 (pid 2204262)] \u001b[0m\u001b[22mCurrent value of counter 18\u001b[0m\r\n"
     ]
    },
    {
     "name": "stdout",
     "output_type": "stream",
     "text": [
      "\u001b[35m2024-12-11 06:10:09.146 \u001b[0m\u001b[32m[7453/count_values/47440 (pid 2204262)] \u001b[0m\u001b[1mTask finished successfully.\u001b[0m\r\n"
     ]
    },
    {
     "name": "stdout",
     "output_type": "stream",
     "text": [
      "\u001b[35m2024-12-11 06:10:09.503 \u001b[0m\u001b[32m[7453/end/47448 (pid 2205202)] \u001b[0m\u001b[1mTask is starting.\u001b[0m\r\n"
     ]
    },
    {
     "name": "stdout",
     "output_type": "stream",
     "text": [
      "\u001b[35m2024-12-11 06:10:12.237 \u001b[0m\u001b[32m[7453/end/47448 (pid 2205202)] \u001b[0m\u001b[1mTask finished successfully.\u001b[0m\r\n"
     ]
    },
    {
     "name": "stdout",
     "output_type": "stream",
     "text": [
      "\u001b[35m2024-12-11 06:10:12.420 \u001b[0m\u001b[1mDone!\u001b[0m\r\n"
     ]
    }
   ],
   "source": [
    "#meta:tag=hide_input\n",
    "#meta:show_steps=count_values\n",
    "! python temp_files/checkpoint_basic.py run "
   ]
  },
  {
   "cell_type": "markdown",
   "metadata": {},
   "source": [
    "### Load Policies And Accessing Past Checkpoints. \n",
    "\n",
    "The `@checkpoint` decorator provides a `load_policy` argument which alters the checkpoint loading behavior in Metaflow. The `load_policy` argument can take the following values:\n",
    "- `fresh` (default): The latest checkpoint created within the task will be loaded. This means that no checkpoint will ever be loaded at the start of the task execution on the very first attempt. Upon subsequent retries, the latest checkpoint will be loaded. \n",
    "- `eager` : The latest available checkpoint associated with a step (which might have even been created in a previous execution) will be loaded. \n",
    "- `none`: No checkpoint will ever be loaded. It's left to the user to explicitly choose/load a checkpoint within the user code. Users can select a checkpoint within user code by accessing the `current.checkpoint.list` method and the load the checkpoint using the `current.checkpoint.load` method.\n",
    "\n",
    "The `current.checkpoint` object also provides a `list` method. The `current.checkpoint.list` method returns a list of checkpoints associated with the current step. All checkpoints listed will be scoped to the current step and the current task's namespace. The `list` method can take several optional arguments such as: \n",
    "- `name`: A string to filter checkpoints by name\n",
    "- `task`: A Metaflow pathspec string or [Metaflow Task object](https://docs.metaflow.org/api/client#task) to filter checkpoints\n",
    "- `attempt`: An integer to filter checkpoints by attempt number\n",
    "- `within_task` : A boolean flag to indicate if the checkpoints should be filtered by the currently running task or for all previous tasks of the step.\n"
   ]
  },
  {
   "cell_type": "code",
   "execution_count": null,
   "metadata": {},
   "outputs": [],
   "source": []
  },
  {
   "cell_type": "markdown",
   "metadata": {},
   "source": [
    "### Saving Checkpoints within Subprocesses.\n",
    "[TODO]"
   ]
  },
  {
   "cell_type": "markdown",
   "metadata": {},
   "source": [
    "### Saving / Loading Checkpoints within a foreach\n",
    "[TODO]"
   ]
  },
  {
   "cell_type": "markdown",
   "metadata": {},
   "source": [
    "### Saving / Loading Checkpoints for Gang Scheduled `@parallel` steps\n",
    "[TODO]"
   ]
  },
  {
   "cell_type": "markdown",
   "metadata": {},
   "source": []
  }
 ],
 "metadata": {
  "kernelspec": {
   "display_name": "mf-modeling-utils",
   "language": "python",
   "name": "python3"
  },
  "language_info": {
   "codemirror_mode": {
    "name": "ipython",
    "version": 3
   },
   "file_extension": ".py",
   "mimetype": "text/x-python",
   "name": "python",
   "nbconvert_exporter": "python",
   "pygments_lexer": "ipython3",
   "version": "3.11.9"
  }
 },
 "nbformat": 4,
 "nbformat_minor": 2
}
