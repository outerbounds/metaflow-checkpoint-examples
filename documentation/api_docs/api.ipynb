{
 "cells": [
  {
   "cell_type": "code",
   "execution_count": 1,
   "metadata": {
    "execution": {
     "iopub.execute_input": "2025-06-05T19:31:33.335876Z",
     "iopub.status.busy": "2025-06-05T19:31:33.335562Z",
     "iopub.status.idle": "2025-06-05T19:31:33.340807Z",
     "shell.execute_reply": "2025-06-05T19:31:33.340399Z"
    }
   },
   "outputs": [
    {
     "name": "stdout",
     "output_type": "stream",
     "text": [
      "env: METAFLOW_PROFILE=dev-valay\n",
      "env: METAFLOW_UI_URL=\n"
     ]
    }
   ],
   "source": [
    "#meta:tag=hide\n",
    "%env METAFLOW_PROFILE=dev-valay\n",
    "%env METAFLOW_UI_URL=\n"
   ]
  },
  {
   "cell_type": "code",
   "execution_count": 2,
   "metadata": {
    "execution": {
     "iopub.execute_input": "2025-06-05T19:31:33.371136Z",
     "iopub.status.busy": "2025-06-05T19:31:33.370825Z",
     "iopub.status.idle": "2025-06-05T19:31:33.990880Z",
     "shell.execute_reply": "2025-06-05T19:31:33.990426Z"
    }
   },
   "outputs": [],
   "source": [
    "#meta:tag=hide\n",
    "from functools import partial\n",
    "from nbdoc.showdoc import ShowDoc as SD\n",
    "ShowDoc = partial(SD, module_nm='metaflow')\n",
    "from metaflow import huggingface_hub , Checkpoint, checkpoint, model\n",
    "from metaflow_extensions.obcheckpoint.plugins.machine_learning_utilities.hf_hub.decorator import HuggingfaceRegistry\n",
    "from metaflow_extensions.obcheckpoint.plugins.machine_learning_utilities.modeling_utils.core import ModelSerializer, LoadedModels\n",
    "# import warnings\n",
    "# warnings.filterwarnings(\"ignore\")\n"
   ]
  },
  {
   "cell_type": "markdown",
   "metadata": {},
   "source": [
    "## @huggingface_hub"
   ]
  },
  {
   "cell_type": "code",
   "execution_count": 3,
   "metadata": {
    "execution": {
     "iopub.execute_input": "2025-06-05T19:31:33.993395Z",
     "iopub.status.busy": "2025-06-05T19:31:33.992902Z",
     "iopub.status.idle": "2025-06-05T19:31:34.006758Z",
     "shell.execute_reply": "2025-06-05T19:31:34.006350Z"
    }
   },
   "outputs": [
    {
     "name": "stderr",
     "output_type": "stream",
     "text": [
      "/home/ubuntu/miniconda3/envs/mf-modeling-utils/lib/python3.11/site-packages/numpydoc/docscrape.py:434: UserWarning: Unknown section Mf Add To Current in the docstring of HuggingfaceHubDecorator in /home/ubuntu/metaflow-checkpoint/metaflow_extensions/obcheckpoint/plugins/machine_learning_utilities/hf_hub/decorator.py.\n",
      "  warn(msg)\n"
     ]
    },
    {
     "data": {
      "text/html": [
       "<HTMLRemove>\n",
       "<h3> <code>decorator</code> <span style=\"color:Brown\">@huggingface_hub</span> <em>(...)</em></h3><strong>metaflow</strong><p><blockquote>Decorator&nbsp;that&nbsp;helps&nbsp;cache,&nbsp;version&nbsp;and&nbsp;store&nbsp;models/datasets&nbsp;from&nbsp;huggingface&nbsp;hub.<br><br>Parameters<br>----------<br>temp_dir_root&nbsp;:&nbsp;str,&nbsp;optional<br>&nbsp;&nbsp;&nbsp;&nbsp;The&nbsp;root&nbsp;directory&nbsp;that&nbsp;will&nbsp;hold&nbsp;the&nbsp;temporary&nbsp;directory&nbsp;where&nbsp;objects&nbsp;will&nbsp;be&nbsp;downloaded.<br><br>load:&nbsp;Union[List[str],&nbsp;List[Tuple[Dict,&nbsp;str]],&nbsp;List[Tuple[str,&nbsp;str]],&nbsp;List[Dict],&nbsp;None]<br>&nbsp;&nbsp;&nbsp;&nbsp;The&nbsp;list&nbsp;of&nbsp;repos&nbsp;(models/datasets)&nbsp;to&nbsp;load.<br><br>&nbsp;&nbsp;&nbsp;&nbsp;Loaded&nbsp;repos&nbsp;can&nbsp;be&nbsp;accessed&nbsp;via&nbsp;`current.huggingface_hub.loaded`.&nbsp;If&nbsp;load&nbsp;is&nbsp;set,&nbsp;then&nbsp;the&nbsp;following&nbsp;happens:<br><br>&nbsp;&nbsp;&nbsp;&nbsp;-&nbsp;If&nbsp;repo&nbsp;(model/dataset)&nbsp;is&nbsp;not&nbsp;found&nbsp;in&nbsp;the&nbsp;datastore:<br>&nbsp;&nbsp;&nbsp;&nbsp;&nbsp;&nbsp;&nbsp;&nbsp;-&nbsp;Downloads&nbsp;the&nbsp;repo&nbsp;from&nbsp;Hugging&nbsp;Face&nbsp;Hub&nbsp;to&nbsp;a&nbsp;temporary&nbsp;directory&nbsp;(or&nbsp;uses&nbsp;specified&nbsp;path)&nbsp;for&nbsp;local&nbsp;access<br>&nbsp;&nbsp;&nbsp;&nbsp;&nbsp;&nbsp;&nbsp;&nbsp;-&nbsp;Stores&nbsp;it&nbsp;in&nbsp;Metaflow's&nbsp;datastore&nbsp;(s3/gcs/azure&nbsp;etc.)&nbsp;with&nbsp;a&nbsp;unique&nbsp;name&nbsp;based&nbsp;on&nbsp;repo_type/repo_id<br>&nbsp;&nbsp;&nbsp;&nbsp;&nbsp;&nbsp;&nbsp;&nbsp;&nbsp;&nbsp;&nbsp;&nbsp;-&nbsp;All&nbsp;HF&nbsp;models&nbsp;loaded&nbsp;for&nbsp;a&nbsp;`@step`&nbsp;will&nbsp;be&nbsp;cached&nbsp;separately&nbsp;under&nbsp;flow/step/namespace.<br><br>&nbsp;&nbsp;&nbsp;&nbsp;-&nbsp;If&nbsp;repo&nbsp;is&nbsp;found&nbsp;in&nbsp;the&nbsp;datastore:<br>&nbsp;&nbsp;&nbsp;&nbsp;&nbsp;&nbsp;&nbsp;&nbsp;-&nbsp;Loads&nbsp;it&nbsp;directly&nbsp;from&nbsp;datastore&nbsp;to&nbsp;local&nbsp;path&nbsp;(can&nbsp;be&nbsp;temporary&nbsp;directory&nbsp;or&nbsp;specified&nbsp;path)<br><br><br>MF&nbsp;Add&nbsp;To&nbsp;Current<br>-----------------<br>huggingface_hub&nbsp;->&nbsp;metaflow_extensions.obcheckpoint.plugins.machine_learning_utilities.hf_hub.decorator.HuggingfaceRegistry<br>&nbsp;&nbsp;&nbsp;&nbsp;The&nbsp;`@huggingface_hub`&nbsp;injects&nbsp;a&nbsp;`huggingface_hub`&nbsp;object&nbsp;into&nbsp;the&nbsp;`current`&nbsp;object.&nbsp;This&nbsp;object&nbsp;provides&nbsp;syntactic&nbsp;sugar<br>&nbsp;&nbsp;&nbsp;&nbsp;over&nbsp;[huggingface_hub](https://github.com/huggingface/huggingface_hub)'s<br>&nbsp;&nbsp;&nbsp;&nbsp;[snapshot_download](https://huggingface.co/docs/huggingface_hub/main/en/package_reference/file_download#huggingface_hub.snapshot_download)&nbsp;function.<br>&nbsp;&nbsp;&nbsp;&nbsp;The&nbsp;`current.huggingface_hub.snapshot_download`&nbsp;function&nbsp;downloads&nbsp;objects&nbsp;from&nbsp;huggingface&nbsp;hub&nbsp;and&nbsp;saves&nbsp;them&nbsp;to&nbsp;the&nbsp;Metaflow's&nbsp;datastore&nbsp;under&nbsp;the<br>&nbsp;&nbsp;&nbsp;&nbsp;`<repo_type>/<repo_id>`&nbsp;name.&nbsp;The&nbsp;`repo_type`&nbsp;is&nbsp;by&nbsp;default&nbsp;`model`&nbsp;and&nbsp;can&nbsp;be&nbsp;overriden&nbsp;by&nbsp;passing&nbsp;the&nbsp;`repo_type`&nbsp;parameter&nbsp;to&nbsp;the&nbsp;`snapshot_download`&nbsp;function.<br><br><br>Examples<br>--------<br>**Usage:&nbsp;creating&nbsp;references&nbsp;of&nbsp;models&nbsp;from&nbsp;huggingface&nbsp;that&nbsp;may&nbsp;be&nbsp;loaded&nbsp;in&nbsp;downstream&nbsp;steps**<br>```python<br>&nbsp;&nbsp;&nbsp;&nbsp;@huggingface_hub<br>&nbsp;&nbsp;&nbsp;&nbsp;@step<br>&nbsp;&nbsp;&nbsp;&nbsp;def&nbsp;pull_model_from_huggingface(self):<br>&nbsp;&nbsp;&nbsp;&nbsp;&nbsp;&nbsp;&nbsp;&nbsp;#&nbsp;`current.huggingface_hub.snapshot_download`&nbsp;downloads&nbsp;the&nbsp;model&nbsp;from&nbsp;the&nbsp;Hugging&nbsp;Face&nbsp;Hub<br>&nbsp;&nbsp;&nbsp;&nbsp;&nbsp;&nbsp;&nbsp;&nbsp;#&nbsp;and&nbsp;saves&nbsp;it&nbsp;in&nbsp;the&nbsp;backend&nbsp;storage&nbsp;based&nbsp;on&nbsp;the&nbsp;model's&nbsp;`repo_id`.&nbsp;If&nbsp;there&nbsp;exists&nbsp;a&nbsp;model<br>&nbsp;&nbsp;&nbsp;&nbsp;&nbsp;&nbsp;&nbsp;&nbsp;#&nbsp;with&nbsp;the&nbsp;same&nbsp;`repo_id`&nbsp;in&nbsp;the&nbsp;backend&nbsp;storage,&nbsp;it&nbsp;will&nbsp;not&nbsp;download&nbsp;the&nbsp;model&nbsp;again.&nbsp;The&nbsp;return<br>&nbsp;&nbsp;&nbsp;&nbsp;&nbsp;&nbsp;&nbsp;&nbsp;#&nbsp;value&nbsp;of&nbsp;the&nbsp;function&nbsp;is&nbsp;a&nbsp;reference&nbsp;to&nbsp;the&nbsp;model&nbsp;in&nbsp;the&nbsp;backend&nbsp;storage.<br>&nbsp;&nbsp;&nbsp;&nbsp;&nbsp;&nbsp;&nbsp;&nbsp;#&nbsp;This&nbsp;reference&nbsp;can&nbsp;be&nbsp;used&nbsp;to&nbsp;load&nbsp;the&nbsp;model&nbsp;in&nbsp;the&nbsp;subsequent&nbsp;steps&nbsp;via&nbsp;`@model(load=[\"llama_model\"])`<br><br>&nbsp;&nbsp;&nbsp;&nbsp;&nbsp;&nbsp;&nbsp;&nbsp;self.model_id&nbsp;=&nbsp;\"mistralai/Mistral-7B-Instruct-v0.1\"<br>&nbsp;&nbsp;&nbsp;&nbsp;&nbsp;&nbsp;&nbsp;&nbsp;self.llama_model&nbsp;=&nbsp;current.huggingface_hub.snapshot_download(<br>&nbsp;&nbsp;&nbsp;&nbsp;&nbsp;&nbsp;&nbsp;&nbsp;&nbsp;&nbsp;&nbsp;&nbsp;repo_id=self.model_id,<br>&nbsp;&nbsp;&nbsp;&nbsp;&nbsp;&nbsp;&nbsp;&nbsp;&nbsp;&nbsp;&nbsp;&nbsp;allow_patterns=[\"*.safetensors\",&nbsp;\"*.json\",&nbsp;\"tokenizer.*\"],<br>&nbsp;&nbsp;&nbsp;&nbsp;&nbsp;&nbsp;&nbsp;&nbsp;)<br>&nbsp;&nbsp;&nbsp;&nbsp;&nbsp;&nbsp;&nbsp;&nbsp;self.next(self.train)<br>```<br><br>**Usage:&nbsp;loading&nbsp;models&nbsp;directly&nbsp;from&nbsp;huggingface&nbsp;hub&nbsp;or&nbsp;from&nbsp;cache&nbsp;(from&nbsp;metaflow's&nbsp;datastore)**<br>```python<br>&nbsp;&nbsp;&nbsp;&nbsp;@huggingface_hub(load=[\"mistralai/Mistral-7B-Instruct-v0.1\"])<br>&nbsp;&nbsp;&nbsp;&nbsp;@step<br>&nbsp;&nbsp;&nbsp;&nbsp;def&nbsp;pull_model_from_huggingface(self):<br>&nbsp;&nbsp;&nbsp;&nbsp;&nbsp;&nbsp;&nbsp;&nbsp;path_to_model&nbsp;=&nbsp;current.huggingface_hub.loaded[\"mistralai/Mistral-7B-Instruct-v0.1\"]<br>```<br><br>```python<br>&nbsp;&nbsp;&nbsp;&nbsp;@huggingface_hub(load=[(\"mistralai/Mistral-7B-Instruct-v0.1\",&nbsp;\"/my-directory\"),&nbsp;(\"myorg/mistral-lora,&nbsp;\"/my-lora-directory\")])<br>&nbsp;&nbsp;&nbsp;&nbsp;@step<br>&nbsp;&nbsp;&nbsp;&nbsp;def&nbsp;finetune_model(self):<br>&nbsp;&nbsp;&nbsp;&nbsp;&nbsp;&nbsp;&nbsp;&nbsp;path_to_model&nbsp;=&nbsp;current.huggingface_hub.loaded[\"mistralai/Mistral-7B-Instruct-v0.1\"]<br>&nbsp;&nbsp;&nbsp;&nbsp;&nbsp;&nbsp;&nbsp;&nbsp;#&nbsp;path_to_model&nbsp;will&nbsp;be&nbsp;/my-directory<br>```<br><br>```python<br>&nbsp;&nbsp;&nbsp;&nbsp;#&nbsp;Takes&nbsp;all&nbsp;the&nbsp;arguments&nbsp;passed&nbsp;to&nbsp;`snapshot_download`<br>&nbsp;&nbsp;&nbsp;&nbsp;#&nbsp;except&nbsp;for&nbsp;`local_dir`<br>&nbsp;&nbsp;&nbsp;&nbsp;@huggingface_hub(load=[<br>&nbsp;&nbsp;&nbsp;&nbsp;&nbsp;&nbsp;&nbsp;&nbsp;{<br>&nbsp;&nbsp;&nbsp;&nbsp;&nbsp;&nbsp;&nbsp;&nbsp;&nbsp;&nbsp;&nbsp;&nbsp;\"repo_id\":&nbsp;\"mistralai/Mistral-7B-Instruct-v0.1\",<br>&nbsp;&nbsp;&nbsp;&nbsp;&nbsp;&nbsp;&nbsp;&nbsp;},<br>&nbsp;&nbsp;&nbsp;&nbsp;&nbsp;&nbsp;&nbsp;&nbsp;{<br>&nbsp;&nbsp;&nbsp;&nbsp;&nbsp;&nbsp;&nbsp;&nbsp;&nbsp;&nbsp;&nbsp;&nbsp;\"repo_id\":&nbsp;\"myorg/mistral-lora\",<br>&nbsp;&nbsp;&nbsp;&nbsp;&nbsp;&nbsp;&nbsp;&nbsp;&nbsp;&nbsp;&nbsp;&nbsp;\"repo_type\":&nbsp;\"model\",<br>&nbsp;&nbsp;&nbsp;&nbsp;&nbsp;&nbsp;&nbsp;&nbsp;},<br>&nbsp;&nbsp;&nbsp;&nbsp;])<br>&nbsp;&nbsp;&nbsp;&nbsp;@step<br>&nbsp;&nbsp;&nbsp;&nbsp;def&nbsp;finetune_model(self):<br>&nbsp;&nbsp;&nbsp;&nbsp;&nbsp;&nbsp;&nbsp;&nbsp;path_to_model&nbsp;=&nbsp;current.huggingface_hub.loaded[\"mistralai/Mistral-7B-Instruct-v0.1\"]<br>&nbsp;&nbsp;&nbsp;&nbsp;&nbsp;&nbsp;&nbsp;&nbsp;#&nbsp;path_to_model&nbsp;will&nbsp;be&nbsp;/my-directory<br>```</blockquote></p>\n",
       "</HTMLRemove>\n",
       "<DocSection type=\"decorator\" name=\"huggingface_hub\" module=\"metaflow\" show_import=\"True\" heading_level=\"3\">\n",
       "<SigArgSection>\n",
       "<SigArg name=\"...\" />\n",
       "</SigArgSection>\n",
       "<Description summary=\"Decorator that helps cache, version and store models/datasets from huggingface hub.\" />\n",
       "<ParamSection name=\"Parameters\">\n",
       "\t<Parameter name=\"temp_dir_root\" type=\"str, optional\" desc=\"The root directory that will hold the temporary directory where objects will be downloaded.\" />\n",
       "\t<Parameter name=\"load: Union[List[str], List[Tuple[Dict, str]], List[Tuple[str, str]], List[Dict], None]\" desc=\"The list of repos (models/datasets) to load.\\n\\nLoaded repos can be accessed via `current.huggingface_hub.loaded`. If load is set, then the following happens:\\n\\n- If repo (model/dataset) is not found in the datastore:\\n    - Downloads the repo from Hugging Face Hub to a temporary directory (or uses specified path) for local access\\n    - Stores it in Metaflow's datastore (s3/gcs/azure etc.) with a unique name based on repo_type/repo_id\\n        - All HF models loaded for a `@step` will be cached separately under flow/step/namespace.\\n\\n- If repo is found in the datastore:\\n    - Loads it directly from datastore to local path (can be temporary directory or specified path)\" />\n",
       "</ParamSection>\n",
       "</DocSection>"
      ],
      "text/plain": [
       "<nbdoc.showdoc.ShowDoc at 0x7fb44f612950>"
      ]
     },
     "execution_count": 3,
     "metadata": {},
     "output_type": "execute_result"
    }
   ],
   "source": [
    "ShowDoc(huggingface_hub, show_import=True, decorator=True, skip_sections=[\"Mf Add To Current\"])\n",
    "# You can use one of the following sections: \n",
    "# https://github.com/numpy/numpydoc/blob/865b865b3d1dfb8cd2139fa76cefe3643e1bf52a/numpydoc/docscrape.py#L118"
   ]
  },
  {
   "cell_type": "code",
   "execution_count": 4,
   "metadata": {
    "execution": {
     "iopub.execute_input": "2025-06-05T19:31:34.008581Z",
     "iopub.status.busy": "2025-06-05T19:31:34.008284Z",
     "iopub.status.idle": "2025-06-05T19:31:34.015606Z",
     "shell.execute_reply": "2025-06-05T19:31:34.015246Z"
    }
   },
   "outputs": [
    {
     "data": {
      "text/html": [
       "<HTMLRemove>\n",
       "<h3> <code>class</code> <span style=\"color:Brown\">current.huggingface_hub</span> <em></em></h3><p><blockquote>This&nbsp;object&nbsp;provides&nbsp;syntactic&nbsp;sugar<br>over&nbsp;[huggingface_hub](https://github.com/huggingface/huggingface_hub)'s<br>[snapshot_download](https://huggingface.co/docs/huggingface_hub/main/en/package_reference/file_download#huggingface_hub.snapshot_download)&nbsp;function.<br>The&nbsp;`current.huggingface_hub.snapshot_download`&nbsp;function&nbsp;downloads&nbsp;objects&nbsp;from&nbsp;huggingface&nbsp;hub&nbsp;and&nbsp;saves&nbsp;them&nbsp;to&nbsp;the&nbsp;Metaflow's&nbsp;datastore&nbsp;under&nbsp;the<br>`<repo_type>/<repo_id>`&nbsp;name.&nbsp;The&nbsp;`repo_type`&nbsp;is&nbsp;by&nbsp;default&nbsp;`model`&nbsp;and&nbsp;can&nbsp;be&nbsp;overriden&nbsp;by&nbsp;passing&nbsp;the&nbsp;`repo_type`&nbsp;parameter&nbsp;to&nbsp;the&nbsp;`snapshot_download`&nbsp;function.</blockquote></p>\n",
       "</HTMLRemove>\n",
       "<DocSection type=\"class\" name=\"current.huggingface_hub\" module=\"metaflow\" show_import=\"False\" heading_level=\"3\">\n",
       "<SigArgSection>\n",
       "<SigArg name=\"\" />\n",
       "</SigArgSection>\n",
       "<Description summary=\"This object provides syntactic sugar\\nover [huggingface_hub](https://github.com/huggingface/huggingface_hub)'s\\n[snapshot_download](https://huggingface.co/docs/huggingface_hub/main/en/package_reference/file_download#huggingface_hub.snapshot_download) function.\\nThe `current.huggingface_hub.snapshot_download` function downloads objects from huggingface hub and saves them to the Metaflow's datastore under the\\n`<repo_type>/<repo_id>` name. The `repo_type` is by default `model` and can be overriden by passing the `repo_type` parameter to the `snapshot_download` function.\" />\n",
       "<ParamSection name=\"Attributes\">\n",
       "\t<Parameter name=\"loaded\" />\n",
       "</ParamSection>\n",
       "</DocSection>"
      ],
      "text/plain": [
       "<nbdoc.showdoc.ShowDoc at 0x7fb44f699810>"
      ]
     },
     "execution_count": 4,
     "metadata": {},
     "output_type": "execute_result"
    }
   ],
   "source": [
    "ShowDoc(HuggingfaceRegistry, spoofstr=\"\", show_import=False, skip_sections=[\"Mf Add To Current\"], name=\"current.huggingface_hub\")"
   ]
  },
  {
   "cell_type": "code",
   "execution_count": 5,
   "metadata": {
    "execution": {
     "iopub.execute_input": "2025-06-05T19:31:34.017381Z",
     "iopub.status.busy": "2025-06-05T19:31:34.017087Z",
     "iopub.status.idle": "2025-06-05T19:31:34.021734Z",
     "shell.execute_reply": "2025-06-05T19:31:34.021338Z"
    }
   },
   "outputs": [
    {
     "data": {
      "text/html": [
       "<HTMLRemove>\n",
       "<h4> <code>method</code> <span style=\"color:Brown\">current.huggingface_hub.snapshot_download</span> <em>(self, **kwargs) -> dict</em></h4><p><blockquote>Downloads&nbsp;a&nbsp;model&nbsp;from&nbsp;huggingface&nbsp;hub&nbsp;and&nbsp;cache's&nbsp;it&nbsp;to&nbsp;the&nbsp;Metaflow's&nbsp;datastore.<br>It&nbsp;passes&nbsp;down&nbsp;all&nbsp;the&nbsp;parameters&nbsp;to&nbsp;the&nbsp;`huggingface_hub.snapshot_download`&nbsp;function.<br><br>Returns<br>-------<br>dict<br>&nbsp;&nbsp;&nbsp;&nbsp;A&nbsp;reference&nbsp;to&nbsp;the&nbsp;artifact&nbsp;that&nbsp;was&nbsp;saved/retrieved&nbsp;from&nbsp;the&nbsp;Metaflow's&nbsp;datastore.</blockquote></p>\n",
       "</HTMLRemove>\n",
       "<DocSection type=\"method\" name=\"current.huggingface_hub.snapshot_download\" module=\"metaflow\" show_import=\"False\" heading_level=\"4\">\n",
       "<SigArgSection>\n",
       "<SigArg name=\"self\" /><SigArg name=\"**kwargs\" />\n",
       "</SigArgSection>\n",
       "<Description summary=\"Downloads a model from huggingface hub and cache's it to the Metaflow's datastore.\\nIt passes down all the parameters to the `huggingface_hub.snapshot_download` function.\" />\n",
       "<ParamSection name=\"Returns\">\n",
       "\t<Parameter type=\"dict\" desc=\"A reference to the artifact that was saved/retrieved from the Metaflow's datastore.\" />\n",
       "</ParamSection>\n",
       "</DocSection>"
      ],
      "text/plain": [
       "<nbdoc.showdoc.ShowDoc at 0x7fb44f6ba410>"
      ]
     },
     "execution_count": 5,
     "metadata": {},
     "output_type": "execute_result"
    }
   ],
   "source": [
    "ShowDoc(HuggingfaceRegistry.snapshot_download, show_import=False, skip_sections=[\"Mf Add To Current\"], name=\"current.huggingface_hub.snapshot_download\")"
   ]
  },
  {
   "cell_type": "markdown",
   "metadata": {},
   "source": [
    "## @model"
   ]
  },
  {
   "cell_type": "code",
   "execution_count": 6,
   "metadata": {
    "execution": {
     "iopub.execute_input": "2025-06-05T19:31:34.023658Z",
     "iopub.status.busy": "2025-06-05T19:31:34.023373Z",
     "iopub.status.idle": "2025-06-05T19:31:34.030868Z",
     "shell.execute_reply": "2025-06-05T19:31:34.030486Z"
    }
   },
   "outputs": [
    {
     "name": "stderr",
     "output_type": "stream",
     "text": [
      "/home/ubuntu/miniconda3/envs/mf-modeling-utils/lib/python3.11/site-packages/numpydoc/docscrape.py:434: UserWarning: Unknown section Mf Add To Current in the docstring of ModelDecorator in /home/ubuntu/metaflow-checkpoint/metaflow_extensions/obcheckpoint/plugins/machine_learning_utilities/modeling_utils/decorator.py.\n",
      "  warn(msg)\n",
      "/home/ubuntu/miniconda3/envs/mf-modeling-utils/lib/python3.11/site-packages/numpydoc/docscrape.py:434: UserWarning: Unknown section @@ Returns in the docstring of ModelDecorator in /home/ubuntu/metaflow-checkpoint/metaflow_extensions/obcheckpoint/plugins/machine_learning_utilities/modeling_utils/decorator.py.\n",
      "  warn(msg)\n"
     ]
    },
    {
     "data": {
      "text/html": [
       "<HTMLRemove>\n",
       "<h3> <code>decorator</code> <span style=\"color:Brown\">@model</span> <em>(...)</em></h3><strong>metaflow</strong><p><blockquote>Enables&nbsp;loading&nbsp;/&nbsp;saving&nbsp;of&nbsp;models&nbsp;within&nbsp;a&nbsp;step.<br><br><br>Parameters<br>----------<br>load&nbsp;:&nbsp;Union[List[str],str,List[Tuple[str,Union[str,None]]]],&nbsp;default:&nbsp;None<br>&nbsp;&nbsp;&nbsp;&nbsp;Artifact&nbsp;name/s&nbsp;referencing&nbsp;the&nbsp;models/checkpoints&nbsp;to&nbsp;load.&nbsp;Artifact&nbsp;names&nbsp;refer&nbsp;to&nbsp;the&nbsp;names&nbsp;of&nbsp;the&nbsp;instance&nbsp;variables&nbsp;set&nbsp;to&nbsp;`self`.<br>&nbsp;&nbsp;&nbsp;&nbsp;These&nbsp;artifact&nbsp;names&nbsp;give&nbsp;to&nbsp;`load`&nbsp;be&nbsp;reference&nbsp;objects&nbsp;or&nbsp;reference&nbsp;`key`&nbsp;string's&nbsp;from&nbsp;objects&nbsp;created&nbsp;by:<br>&nbsp;&nbsp;&nbsp;&nbsp;-&nbsp;`current.checkpoint`<br>&nbsp;&nbsp;&nbsp;&nbsp;-&nbsp;`current.model`<br>&nbsp;&nbsp;&nbsp;&nbsp;-&nbsp;`current.huggingface_hub`<br><br>&nbsp;&nbsp;&nbsp;&nbsp;If&nbsp;a&nbsp;list&nbsp;of&nbsp;tuples&nbsp;is&nbsp;provided,&nbsp;the&nbsp;first&nbsp;element&nbsp;is&nbsp;the&nbsp;artifact&nbsp;name&nbsp;and&nbsp;the&nbsp;second&nbsp;element&nbsp;is&nbsp;the&nbsp;path&nbsp;the&nbsp;artifact&nbsp;needs&nbsp;be&nbsp;unpacked&nbsp;on<br>&nbsp;&nbsp;&nbsp;&nbsp;the&nbsp;local&nbsp;filesystem.&nbsp;If&nbsp;the&nbsp;second&nbsp;element&nbsp;is&nbsp;None,&nbsp;the&nbsp;artifact&nbsp;will&nbsp;be&nbsp;unpacked&nbsp;in&nbsp;the&nbsp;current&nbsp;working&nbsp;directory.<br>&nbsp;&nbsp;&nbsp;&nbsp;If&nbsp;a&nbsp;string&nbsp;is&nbsp;provided,&nbsp;then&nbsp;the&nbsp;artifact&nbsp;corresponding&nbsp;to&nbsp;that&nbsp;name&nbsp;will&nbsp;be&nbsp;loaded&nbsp;in&nbsp;the&nbsp;current&nbsp;working&nbsp;directory.<br><br>temp_dir_root&nbsp;:&nbsp;str,&nbsp;default:&nbsp;None<br>&nbsp;&nbsp;&nbsp;&nbsp;The&nbsp;root&nbsp;directory&nbsp;under&nbsp;which&nbsp;`current.model.loaded`&nbsp;will&nbsp;store&nbsp;loaded&nbsp;models<br><br>Examples&nbsp;<br>--------<br>-&nbsp;Saving&nbsp;Models&nbsp;<br>```python<br>@model<br>@step<br>def&nbsp;train(self):<br>&nbsp;&nbsp;&nbsp;&nbsp;#&nbsp;current.model.save&nbsp;returns&nbsp;a&nbsp;dictionary&nbsp;reference&nbsp;to&nbsp;the&nbsp;model&nbsp;saved<br>&nbsp;&nbsp;&nbsp;&nbsp;self.my_model&nbsp;=&nbsp;current.model.save(<br>&nbsp;&nbsp;&nbsp;&nbsp;&nbsp;&nbsp;&nbsp;&nbsp;path_to_my_model,<br>&nbsp;&nbsp;&nbsp;&nbsp;&nbsp;&nbsp;&nbsp;&nbsp;label=\"my_model\",<br>&nbsp;&nbsp;&nbsp;&nbsp;&nbsp;&nbsp;&nbsp;&nbsp;metadata={<br>&nbsp;&nbsp;&nbsp;&nbsp;&nbsp;&nbsp;&nbsp;&nbsp;&nbsp;&nbsp;&nbsp;&nbsp;\"epochs\":&nbsp;10,<br>&nbsp;&nbsp;&nbsp;&nbsp;&nbsp;&nbsp;&nbsp;&nbsp;&nbsp;&nbsp;&nbsp;&nbsp;\"batch-size\":&nbsp;32,<br>&nbsp;&nbsp;&nbsp;&nbsp;&nbsp;&nbsp;&nbsp;&nbsp;&nbsp;&nbsp;&nbsp;&nbsp;\"learning-rate\":&nbsp;0.001,<br>&nbsp;&nbsp;&nbsp;&nbsp;&nbsp;&nbsp;&nbsp;&nbsp;}<br>&nbsp;&nbsp;&nbsp;&nbsp;)<br>&nbsp;&nbsp;&nbsp;&nbsp;self.next(self.test)<br><br>@model(load=\"my_model\")<br>@step<br>def&nbsp;test(self):<br>&nbsp;&nbsp;&nbsp;&nbsp;#&nbsp;`current.model.loaded`&nbsp;returns&nbsp;a&nbsp;dictionary&nbsp;of&nbsp;the&nbsp;loaded&nbsp;models<br>&nbsp;&nbsp;&nbsp;&nbsp;#&nbsp;where&nbsp;the&nbsp;key&nbsp;is&nbsp;the&nbsp;name&nbsp;of&nbsp;the&nbsp;artifact&nbsp;and&nbsp;the&nbsp;value&nbsp;is&nbsp;the&nbsp;path&nbsp;to&nbsp;the&nbsp;model<br>&nbsp;&nbsp;&nbsp;&nbsp;print(os.listdir(current.model.loaded[\"my_model\"]))<br>&nbsp;&nbsp;&nbsp;&nbsp;self.next(self.end)<br>```<br><br>-&nbsp;Loading&nbsp;models<br>```python<br>@step<br>def&nbsp;train(self):<br>&nbsp;&nbsp;&nbsp;&nbsp;#&nbsp;current.model.load&nbsp;returns&nbsp;the&nbsp;path&nbsp;to&nbsp;the&nbsp;model&nbsp;loaded<br>&nbsp;&nbsp;&nbsp;&nbsp;checkpoint_path&nbsp;=&nbsp;current.model.load(<br>&nbsp;&nbsp;&nbsp;&nbsp;&nbsp;&nbsp;&nbsp;&nbsp;self.checkpoint_key,<br>&nbsp;&nbsp;&nbsp;&nbsp;)<br>&nbsp;&nbsp;&nbsp;&nbsp;model_path&nbsp;=&nbsp;current.model.load(<br>&nbsp;&nbsp;&nbsp;&nbsp;&nbsp;&nbsp;&nbsp;&nbsp;self.model,<br>&nbsp;&nbsp;&nbsp;&nbsp;)<br>&nbsp;&nbsp;&nbsp;&nbsp;self.next(self.test)<br>```<br><br>&nbsp;&nbsp;&nbsp;&nbsp;<br>MF&nbsp;Add&nbsp;To&nbsp;Current<br>-----------------<br>model&nbsp;->&nbsp;metaflow_extensions.obcheckpoint.plugins.machine_learning_utilities.modeling_utils.core.ModelSerializer<br>&nbsp;&nbsp;&nbsp;&nbsp;The&nbsp;object&nbsp;used&nbsp;for&nbsp;loading&nbsp;/&nbsp;saving&nbsp;models.<br>&nbsp;&nbsp;&nbsp;&nbsp;`current.model`&nbsp;exposes&nbsp;a&nbsp;`save`&nbsp;method&nbsp;to&nbsp;save&nbsp;models&nbsp;and&nbsp;a&nbsp;`load`&nbsp;method&nbsp;to&nbsp;load&nbsp;models.<br>&nbsp;&nbsp;&nbsp;&nbsp;`current.model.loaded`&nbsp;exposes&nbsp;the&nbsp;paths&nbsp;to&nbsp;the&nbsp;models&nbsp;loaded&nbsp;via&nbsp;the&nbsp;`load`&nbsp;argument&nbsp;in&nbsp;the&nbsp;@model&nbsp;decorator<br>&nbsp;&nbsp;&nbsp;&nbsp;or&nbsp;models&nbsp;loaded&nbsp;via&nbsp;`current.model.load`.<br><br>&nbsp;&nbsp;&nbsp;&nbsp;@@&nbsp;Returns<br>&nbsp;&nbsp;&nbsp;&nbsp;----------<br>&nbsp;&nbsp;&nbsp;&nbsp;ModelSerializer<br>&nbsp;&nbsp;&nbsp;&nbsp;&nbsp;&nbsp;&nbsp;&nbsp;The&nbsp;object&nbsp;used&nbsp;for&nbsp;loading&nbsp;/&nbsp;saving&nbsp;models.</blockquote></p>\n",
       "</HTMLRemove>\n",
       "<DocSection type=\"decorator\" name=\"model\" module=\"metaflow\" show_import=\"True\" heading_level=\"3\">\n",
       "<SigArgSection>\n",
       "<SigArg name=\"...\" />\n",
       "</SigArgSection>\n",
       "<Description summary=\"Enables loading / saving of models within a step.\" />\n",
       "<ParamSection name=\"Parameters\">\n",
       "\t<Parameter name=\"load\" type=\"Union[List[str],str,List[Tuple[str,Union[str,None]]]], default: None\" desc=\"Artifact name/s referencing the models/checkpoints to load. Artifact names refer to the names of the instance variables set to `self`.\\nThese artifact names give to `load` be reference objects or reference `key` string's from objects created by:\\n- `current.checkpoint`\\n- `current.model`\\n- `current.huggingface_hub`\\n\\nIf a list of tuples is provided, the first element is the artifact name and the second element is the path the artifact needs be unpacked on\\nthe local filesystem. If the second element is None, the artifact will be unpacked in the current working directory.\\nIf a string is provided, then the artifact corresponding to that name will be loaded in the current working directory.\" />\n",
       "\t<Parameter name=\"temp_dir_root\" type=\"str, default: None\" desc=\"The root directory under which `current.model.loaded` will store loaded models\" />\n",
       "</ParamSection>\n",
       "</DocSection>"
      ],
      "text/plain": [
       "<nbdoc.showdoc.ShowDoc at 0x7fb465cfb890>"
      ]
     },
     "execution_count": 6,
     "metadata": {},
     "output_type": "execute_result"
    }
   ],
   "source": [
    "ShowDoc(model, show_import=True, decorator=True, skip_sections=[\"Mf Add To Current\"])\n",
    "# You can use one of the following sections: \n",
    "# https://github.com/numpy/numpydoc/blob/865b865b3d1dfb8cd2139fa76cefe3643e1bf52a/numpydoc/docscrape.py#L118"
   ]
  },
  {
   "cell_type": "code",
   "execution_count": 7,
   "metadata": {
    "execution": {
     "iopub.execute_input": "2025-06-05T19:31:34.032686Z",
     "iopub.status.busy": "2025-06-05T19:31:34.032329Z",
     "iopub.status.idle": "2025-06-05T19:31:34.036681Z",
     "shell.execute_reply": "2025-06-05T19:31:34.036317Z"
    }
   },
   "outputs": [
    {
     "data": {
      "text/html": [
       "<HTMLRemove>\n",
       "<h4> <code>method</code> <span style=\"color:Brown\">current.model.save</span> <em>(self, path, label=None, metadata=None, storage_format='tar')</em></h4>\n",
       "</HTMLRemove>\n",
       "<DocSection type=\"method\" name=\"current.model.save\" module=\"metaflow\" show_import=\"False\" heading_level=\"4\">\n",
       "<SigArgSection>\n",
       "<SigArg name=\"self\" /><SigArg name=\"path\" /><SigArg name=\"label\" default=\"None\" /><SigArg name=\"metadata\" default=\"None\" /><SigArg name=\"storage_format\" default=\"tar\" />\n",
       "</SigArgSection>\n",
       "\n",
       "\n",
       "</DocSection>"
      ],
      "text/plain": [
       "<nbdoc.showdoc.ShowDoc at 0x7fb44f66d5d0>"
      ]
     },
     "execution_count": 7,
     "metadata": {},
     "output_type": "execute_result"
    }
   ],
   "source": [
    "ShowDoc(ModelSerializer.save, show_import=False, skip_sections=[\"Mf Add To Current\"], name=\"current.model.save\")"
   ]
  },
  {
   "cell_type": "code",
   "execution_count": 8,
   "metadata": {
    "execution": {
     "iopub.execute_input": "2025-06-05T19:31:34.038481Z",
     "iopub.status.busy": "2025-06-05T19:31:34.038211Z",
     "iopub.status.idle": "2025-06-05T19:31:34.041916Z",
     "shell.execute_reply": "2025-06-05T19:31:34.041543Z"
    }
   },
   "outputs": [
    {
     "data": {
      "text/html": [
       "<HTMLRemove>\n",
       "<h4> <code>method</code> <span style=\"color:Brown\">current.model.load</span> <em>(self, reference: Union[str, metaflow_extensions.obcheckpoint.plugins.machine_learning_utilities.datastructures.MetaflowDataArtifactReference, dict], path: Optional[str] = None)</em></h4><p><blockquote>Load&nbsp;a&nbsp;model/checkpoint&nbsp;from&nbsp;the&nbsp;datastore&nbsp;to&nbsp;a&nbsp;temporary&nbsp;directory&nbsp;or&nbsp;a&nbsp;specified&nbsp;path.<br><br>Returns<br>-------<br>str&nbsp;:&nbsp;The&nbsp;path&nbsp;to&nbsp;the&nbsp;temporary&nbsp;directory&nbsp;where&nbsp;the&nbsp;model&nbsp;is&nbsp;loaded.</blockquote></p>\n",
       "</HTMLRemove>\n",
       "<DocSection type=\"method\" name=\"current.model.load\" module=\"metaflow\" show_import=\"False\" heading_level=\"4\">\n",
       "<SigArgSection>\n",
       "<SigArg name=\"self\" /><SigArg name=\"reference\" type=\"Union\" /><SigArg name=\"path\" type=\"Optional\" default=\"None\" />\n",
       "</SigArgSection>\n",
       "<Description summary=\"Load a model/checkpoint from the datastore to a temporary directory or a specified path.\" />\n",
       "<ParamSection name=\"Returns\">\n",
       "\t<Parameter name=\"str\" type=\"The path to the temporary directory where the model is loaded.\" />\n",
       "</ParamSection>\n",
       "</DocSection>"
      ],
      "text/plain": [
       "<nbdoc.showdoc.ShowDoc at 0x7fb44f66efd0>"
      ]
     },
     "execution_count": 8,
     "metadata": {},
     "output_type": "execute_result"
    }
   ],
   "source": [
    "ShowDoc(ModelSerializer.load, show_import=False,  skip_sections=[\"Mf Add To Current\"], name=\"current.model.load\")"
   ]
  },
  {
   "cell_type": "code",
   "execution_count": 9,
   "metadata": {
    "execution": {
     "iopub.execute_input": "2025-06-05T19:31:34.043667Z",
     "iopub.status.busy": "2025-06-05T19:31:34.043392Z",
     "iopub.status.idle": "2025-06-05T19:31:34.052219Z",
     "shell.execute_reply": "2025-06-05T19:31:34.051851Z"
    }
   },
   "outputs": [
    {
     "data": {
      "text/html": [
       "<HTMLRemove>\n",
       "<h3> <code>class</code> <span style=\"color:Brown\">current.model.loaded</span> <em></em></h3><p><blockquote>This&nbsp;property&nbsp;helps&nbsp;manage&nbsp;all&nbsp;the&nbsp;models&nbsp;loaded&nbsp;via&nbsp;`@model(load=...)`&nbsp;decorator&nbsp;and<br>`current.model.load`&nbsp;method.<br><br>It&nbsp;is&nbsp;a&nbsp;dictionary&nbsp;like&nbsp;object&nbsp;that&nbsp;stores&nbsp;the&nbsp;loaded&nbsp;models&nbsp;in&nbsp;a&nbsp;temporary&nbsp;directory.&nbsp;<br>The&nbsp;keys&nbsp;of&nbsp;the&nbsp;dictionary&nbsp;are&nbsp;the&nbsp;artifact&nbsp;names&nbsp;and&nbsp;the&nbsp;values&nbsp;are&nbsp;the&nbsp;paths&nbsp;to&nbsp;the&nbsp;<br>temporary&nbsp;directories&nbsp;where&nbsp;the&nbsp;models&nbsp;are&nbsp;stored.<br><br>Examples<br>--------<br>```python<br>&nbsp;&nbsp;&nbsp;&nbsp;@model(load=[\"model_key\",&nbsp;\"chckpt_key\"])<br>&nbsp;&nbsp;&nbsp;&nbsp;@step<br>&nbsp;&nbsp;&nbsp;&nbsp;def&nbsp;mid_step(self):<br>&nbsp;&nbsp;&nbsp;&nbsp;&nbsp;&nbsp;&nbsp;&nbsp;import&nbsp;os<br>&nbsp;&nbsp;&nbsp;&nbsp;&nbsp;&nbsp;&nbsp;&nbsp;os.listdir(current.model.loaded[\"model_key\"])<br>&nbsp;&nbsp;&nbsp;&nbsp;&nbsp;&nbsp;&nbsp;&nbsp;os.listdir(current.model.loaded[\"chckpt_key\"])<br>```</blockquote></p>\n",
       "</HTMLRemove>\n",
       "<DocSection type=\"class\" name=\"current.model.loaded\" module=\"metaflow\" show_import=\"False\" heading_level=\"3\">\n",
       "<SigArgSection>\n",
       "<SigArg name=\"\" />\n",
       "</SigArgSection>\n",
       "<Description summary=\"This property helps manage all the models loaded via `@model(load=...)` decorator and\\n`current.model.load` method.\" extended_summary=\"It is a dictionary like object that stores the loaded models in a temporary directory. \\nThe keys of the dictionary are the artifact names and the values are the paths to the \\ntemporary directories where the models are stored.\" />\n",
       "<ParamSection name=\"Attributes\">\n",
       "\t<Parameter name=\"info\" />\n",
       "</ParamSection>\n",
       "</DocSection>"
      ],
      "text/plain": [
       "<nbdoc.showdoc.ShowDoc at 0x7fb44f66fdd0>"
      ]
     },
     "execution_count": 9,
     "metadata": {},
     "output_type": "execute_result"
    }
   ],
   "source": [
    "ShowDoc(LoadedModels, spoofstr=\"\", show_import=False, skip_sections=[\"Mf Add To Current\"], name=\"current.model.loaded\")"
   ]
  },
  {
   "cell_type": "markdown",
   "metadata": {},
   "source": [
    "## @checkpoint"
   ]
  },
  {
   "cell_type": "code",
   "execution_count": 10,
   "metadata": {
    "execution": {
     "iopub.execute_input": "2025-06-05T19:31:34.053964Z",
     "iopub.status.busy": "2025-06-05T19:31:34.053690Z",
     "iopub.status.idle": "2025-06-05T19:31:34.064081Z",
     "shell.execute_reply": "2025-06-05T19:31:34.063698Z"
    }
   },
   "outputs": [
    {
     "name": "stderr",
     "output_type": "stream",
     "text": [
      "/home/ubuntu/miniconda3/envs/mf-modeling-utils/lib/python3.11/site-packages/numpydoc/docscrape.py:434: UserWarning: Unknown section Mf Add To Current in the docstring of CheckpointDecorator in /home/ubuntu/metaflow-checkpoint/metaflow_extensions/obcheckpoint/plugins/machine_learning_utilities/checkpoints/decorator.py.\n",
      "  warn(msg)\n",
      "/home/ubuntu/miniconda3/envs/mf-modeling-utils/lib/python3.11/site-packages/numpydoc/docscrape.py:434: UserWarning: Unknown section @@ Returns in the docstring of CheckpointDecorator in /home/ubuntu/metaflow-checkpoint/metaflow_extensions/obcheckpoint/plugins/machine_learning_utilities/checkpoints/decorator.py.\n",
      "  warn(msg)\n"
     ]
    },
    {
     "data": {
      "text/html": [
       "<HTMLRemove>\n",
       "<h3> <code>decorator</code> <span style=\"color:Brown\">@checkpoint</span> <em>(...)</em></h3><strong>metaflow</strong><p><blockquote>Enables&nbsp;checkpointing&nbsp;for&nbsp;a&nbsp;step.<br><br><br>Parameters<br>----------<br>load_policy&nbsp;:&nbsp;str,&nbsp;default:&nbsp;\"fresh\"<br>&nbsp;&nbsp;&nbsp;&nbsp;The&nbsp;policy&nbsp;for&nbsp;loading&nbsp;the&nbsp;checkpoint.&nbsp;The&nbsp;following&nbsp;policies&nbsp;are&nbsp;supported:<br>&nbsp;&nbsp;&nbsp;&nbsp;&nbsp;&nbsp;&nbsp;&nbsp;-&nbsp;\"eager\":&nbsp;Loads&nbsp;the&nbsp;the&nbsp;latest&nbsp;available&nbsp;checkpoint&nbsp;within&nbsp;the&nbsp;namespace.<br>&nbsp;&nbsp;&nbsp;&nbsp;&nbsp;&nbsp;&nbsp;&nbsp;With&nbsp;this&nbsp;mode,&nbsp;the&nbsp;latest&nbsp;checkpoint&nbsp;written&nbsp;by&nbsp;any&nbsp;previous&nbsp;task&nbsp;(can&nbsp;be&nbsp;even&nbsp;a&nbsp;different&nbsp;run)&nbsp;of&nbsp;the&nbsp;step<br>&nbsp;&nbsp;&nbsp;&nbsp;&nbsp;&nbsp;&nbsp;&nbsp;will&nbsp;be&nbsp;loaded&nbsp;at&nbsp;the&nbsp;start&nbsp;of&nbsp;the&nbsp;task.<br>&nbsp;&nbsp;&nbsp;&nbsp;&nbsp;&nbsp;&nbsp;&nbsp;-&nbsp;\"none\":&nbsp;Do&nbsp;not&nbsp;load&nbsp;any&nbsp;checkpoint<br>&nbsp;&nbsp;&nbsp;&nbsp;&nbsp;&nbsp;&nbsp;&nbsp;-&nbsp;\"fresh\":&nbsp;Loads&nbsp;the&nbsp;lastest&nbsp;checkpoint&nbsp;created&nbsp;within&nbsp;the&nbsp;running&nbsp;Task.<br>&nbsp;&nbsp;&nbsp;&nbsp;&nbsp;&nbsp;&nbsp;&nbsp;This&nbsp;mode&nbsp;helps&nbsp;loading&nbsp;checkpoints&nbsp;across&nbsp;various&nbsp;retry&nbsp;attempts&nbsp;of&nbsp;the&nbsp;same&nbsp;task.<br>&nbsp;&nbsp;&nbsp;&nbsp;&nbsp;&nbsp;&nbsp;&nbsp;With&nbsp;this&nbsp;mode,&nbsp;no&nbsp;checkpoint&nbsp;will&nbsp;be&nbsp;loaded&nbsp;at&nbsp;the&nbsp;start&nbsp;of&nbsp;a&nbsp;task&nbsp;but&nbsp;any&nbsp;checkpoints<br>&nbsp;&nbsp;&nbsp;&nbsp;&nbsp;&nbsp;&nbsp;&nbsp;created&nbsp;within&nbsp;the&nbsp;task&nbsp;will&nbsp;be&nbsp;loaded&nbsp;when&nbsp;the&nbsp;task&nbsp;is&nbsp;retries&nbsp;execution&nbsp;on&nbsp;failure.<br><br>temp_dir_root&nbsp;:&nbsp;str,&nbsp;default:&nbsp;None<br>&nbsp;&nbsp;&nbsp;&nbsp;The&nbsp;root&nbsp;directory&nbsp;under&nbsp;which&nbsp;`current.checkpoint.directory`&nbsp;will&nbsp;be&nbsp;created.<br><br>Examples<br>--------<br>-&nbsp;Saving&nbsp;Checkpoints<br><br>```python<br>@checkpoint<br>@step<br>def&nbsp;train(self):<br>&nbsp;&nbsp;&nbsp;&nbsp;model&nbsp;=&nbsp;create_model(self.parameters,&nbsp;checkpoint_path&nbsp;=&nbsp;None)<br>&nbsp;&nbsp;&nbsp;&nbsp;for&nbsp;i&nbsp;in&nbsp;range(self.epochs):<br>&nbsp;&nbsp;&nbsp;&nbsp;&nbsp;&nbsp;&nbsp;&nbsp;#&nbsp;some&nbsp;training&nbsp;logic<br>&nbsp;&nbsp;&nbsp;&nbsp;&nbsp;&nbsp;&nbsp;&nbsp;loss&nbsp;=&nbsp;model.train(self.dataset)<br>&nbsp;&nbsp;&nbsp;&nbsp;&nbsp;&nbsp;&nbsp;&nbsp;if&nbsp;i&nbsp;%&nbsp;10&nbsp;==&nbsp;0:<br>&nbsp;&nbsp;&nbsp;&nbsp;&nbsp;&nbsp;&nbsp;&nbsp;&nbsp;&nbsp;&nbsp;&nbsp;model.save(<br>&nbsp;&nbsp;&nbsp;&nbsp;&nbsp;&nbsp;&nbsp;&nbsp;&nbsp;&nbsp;&nbsp;&nbsp;&nbsp;&nbsp;&nbsp;&nbsp;current.checkpoint.directory,<br>&nbsp;&nbsp;&nbsp;&nbsp;&nbsp;&nbsp;&nbsp;&nbsp;&nbsp;&nbsp;&nbsp;&nbsp;)<br>&nbsp;&nbsp;&nbsp;&nbsp;&nbsp;&nbsp;&nbsp;&nbsp;&nbsp;&nbsp;&nbsp;&nbsp;#&nbsp;saves&nbsp;the&nbsp;contents&nbsp;of&nbsp;the&nbsp;`current.checkpoint.directory`&nbsp;as&nbsp;a&nbsp;checkpoint<br>&nbsp;&nbsp;&nbsp;&nbsp;&nbsp;&nbsp;&nbsp;&nbsp;&nbsp;&nbsp;&nbsp;&nbsp;#&nbsp;and&nbsp;returns&nbsp;a&nbsp;reference&nbsp;dictionary&nbsp;to&nbsp;the&nbsp;checkpoint&nbsp;saved&nbsp;in&nbsp;the&nbsp;datastore<br>&nbsp;&nbsp;&nbsp;&nbsp;&nbsp;&nbsp;&nbsp;&nbsp;&nbsp;&nbsp;&nbsp;&nbsp;self.latest_checkpoint&nbsp;=&nbsp;current.checkpoint.save(<br>&nbsp;&nbsp;&nbsp;&nbsp;&nbsp;&nbsp;&nbsp;&nbsp;&nbsp;&nbsp;&nbsp;&nbsp;&nbsp;&nbsp;&nbsp;&nbsp;name=\"epoch_checkpoint\",<br>&nbsp;&nbsp;&nbsp;&nbsp;&nbsp;&nbsp;&nbsp;&nbsp;&nbsp;&nbsp;&nbsp;&nbsp;&nbsp;&nbsp;&nbsp;&nbsp;metadata={<br>&nbsp;&nbsp;&nbsp;&nbsp;&nbsp;&nbsp;&nbsp;&nbsp;&nbsp;&nbsp;&nbsp;&nbsp;&nbsp;&nbsp;&nbsp;&nbsp;&nbsp;&nbsp;&nbsp;&nbsp;\"epoch\":&nbsp;i,<br>&nbsp;&nbsp;&nbsp;&nbsp;&nbsp;&nbsp;&nbsp;&nbsp;&nbsp;&nbsp;&nbsp;&nbsp;&nbsp;&nbsp;&nbsp;&nbsp;&nbsp;&nbsp;&nbsp;&nbsp;\"loss\":&nbsp;loss,<br>&nbsp;&nbsp;&nbsp;&nbsp;&nbsp;&nbsp;&nbsp;&nbsp;&nbsp;&nbsp;&nbsp;&nbsp;&nbsp;&nbsp;&nbsp;&nbsp;}<br>&nbsp;&nbsp;&nbsp;&nbsp;&nbsp;&nbsp;&nbsp;&nbsp;&nbsp;&nbsp;&nbsp;&nbsp;)<br>```<br><br>-&nbsp;Using&nbsp;Loaded&nbsp;Checkpoints<br><br>```python<br>@retry(times=3)<br>@checkpoint<br>@step<br>def&nbsp;train(self):<br>&nbsp;&nbsp;&nbsp;&nbsp;#&nbsp;Assume&nbsp;that&nbsp;the&nbsp;task&nbsp;has&nbsp;restarted&nbsp;and&nbsp;the&nbsp;previous&nbsp;attempt&nbsp;of&nbsp;the&nbsp;task<br>&nbsp;&nbsp;&nbsp;&nbsp;#&nbsp;saved&nbsp;a&nbsp;checkpoint<br>&nbsp;&nbsp;&nbsp;&nbsp;checkpoint_path&nbsp;=&nbsp;None<br>&nbsp;&nbsp;&nbsp;&nbsp;if&nbsp;current.checkpoint.is_loaded:&nbsp;#&nbsp;Check&nbsp;if&nbsp;a&nbsp;checkpoint&nbsp;is&nbsp;loaded<br>&nbsp;&nbsp;&nbsp;&nbsp;&nbsp;&nbsp;&nbsp;&nbsp;print(\"Loaded&nbsp;checkpoint&nbsp;from&nbsp;the&nbsp;previous&nbsp;attempt\")<br>&nbsp;&nbsp;&nbsp;&nbsp;&nbsp;&nbsp;&nbsp;&nbsp;checkpoint_path&nbsp;=&nbsp;current.checkpoint.directory<br><br>&nbsp;&nbsp;&nbsp;&nbsp;model&nbsp;=&nbsp;create_model(self.parameters,&nbsp;checkpoint_path&nbsp;=&nbsp;checkpoint_path)<br>&nbsp;&nbsp;&nbsp;&nbsp;for&nbsp;i&nbsp;in&nbsp;range(self.epochs):<br>&nbsp;&nbsp;&nbsp;&nbsp;&nbsp;&nbsp;&nbsp;&nbsp;...<br>```<br><br>MF&nbsp;Add&nbsp;To&nbsp;Current<br>-----------------<br>checkpoint&nbsp;->&nbsp;metaflow_extensions.obcheckpoint.plugins.machine_learning_utilities.checkpoints.decorator.CurrentCheckpointer<br>&nbsp;&nbsp;&nbsp;&nbsp;The&nbsp;`@checkpoint`&nbsp;decorator&nbsp;makes&nbsp;saving/loading&nbsp;checkpoints&nbsp;available&nbsp;through&nbsp;the&nbsp;`current.checkpoint`.<br>&nbsp;&nbsp;&nbsp;&nbsp;The&nbsp;object&nbsp;exposes&nbsp;`save`/`load`/`list`&nbsp;methods&nbsp;for&nbsp;saving/loading&nbsp;checkpoints.<br><br>&nbsp;&nbsp;&nbsp;&nbsp;You&nbsp;can&nbsp;check&nbsp;if&nbsp;a&nbsp;checkpoint&nbsp;is&nbsp;loaded&nbsp;by&nbsp;`current.checkpoint.is_loaded`&nbsp;and&nbsp;get&nbsp;the&nbsp;checkpoint&nbsp;information<br>&nbsp;&nbsp;&nbsp;&nbsp;by&nbsp;using&nbsp;`current.checkpoint.info`.&nbsp;The&nbsp;`current.checkpoint.directory`&nbsp;returns&nbsp;the&nbsp;path&nbsp;to&nbsp;the&nbsp;checkpoint&nbsp;directory<br>&nbsp;&nbsp;&nbsp;&nbsp;where&nbsp;the&nbsp;checkpoint&nbsp;maybe&nbsp;loaded&nbsp;or&nbsp;saved.<br><br>&nbsp;&nbsp;&nbsp;&nbsp;@@&nbsp;Returns<br>&nbsp;&nbsp;&nbsp;&nbsp;----------<br>&nbsp;&nbsp;&nbsp;&nbsp;CurrentCheckpointer<br>&nbsp;&nbsp;&nbsp;&nbsp;&nbsp;&nbsp;&nbsp;&nbsp;The&nbsp;object&nbsp;for&nbsp;handling&nbsp;checkpointing&nbsp;within&nbsp;a&nbsp;step.</blockquote></p>\n",
       "</HTMLRemove>\n",
       "<DocSection type=\"decorator\" name=\"checkpoint\" module=\"metaflow\" show_import=\"True\" heading_level=\"3\">\n",
       "<SigArgSection>\n",
       "<SigArg name=\"...\" />\n",
       "</SigArgSection>\n",
       "<Description summary=\"Enables checkpointing for a step.\" />\n",
       "<ParamSection name=\"Parameters\">\n",
       "\t<Parameter name=\"load_policy\" type=\"str, default: \"fresh\"\" desc=\"The policy for loading the checkpoint. The following policies are supported:\\n    - \"eager\": Loads the the latest available checkpoint within the namespace.\\n    With this mode, the latest checkpoint written by any previous task (can be even a different run) of the step\\n    will be loaded at the start of the task.\\n    - \"none\": Do not load any checkpoint\\n    - \"fresh\": Loads the lastest checkpoint created within the running Task.\\n    This mode helps loading checkpoints across various retry attempts of the same task.\\n    With this mode, no checkpoint will be loaded at the start of a task but any checkpoints\\n    created within the task will be loaded when the task is retries execution on failure.\" />\n",
       "\t<Parameter name=\"temp_dir_root\" type=\"str, default: None\" desc=\"The root directory under which `current.checkpoint.directory` will be created.\" />\n",
       "</ParamSection>\n",
       "</DocSection>"
      ],
      "text/plain": [
       "<nbdoc.showdoc.ShowDoc at 0x7fb44f6a6650>"
      ]
     },
     "execution_count": 10,
     "metadata": {},
     "output_type": "execute_result"
    }
   ],
   "source": [
    "ShowDoc(checkpoint, show_import=True, decorator=True, skip_sections=[\"Mf Add To Current\"])\n",
    "# You can use one of the following sections: \n",
    "# https://github.com/numpy/numpydoc/blob/865b865b3d1dfb8cd2139fa76cefe3643e1bf52a/numpydoc/docscrape.py#L118"
   ]
  },
  {
   "cell_type": "code",
   "execution_count": 11,
   "metadata": {
    "execution": {
     "iopub.execute_input": "2025-06-05T19:31:34.065912Z",
     "iopub.status.busy": "2025-06-05T19:31:34.065539Z",
     "iopub.status.idle": "2025-06-05T19:31:34.074226Z",
     "shell.execute_reply": "2025-06-05T19:31:34.073846Z"
    }
   },
   "outputs": [
    {
     "data": {
      "text/html": [
       "<HTMLRemove>\n",
       "<h3> <code>class</code> <span style=\"color:Brown\">Checkpoint</span> <em>(temp_dir_root=None, init_dir=False)</em></h3><strong>metaflow</strong>\n",
       "</HTMLRemove>\n",
       "<DocSection type=\"class\" name=\"Checkpoint\" module=\"metaflow\" show_import=\"True\" heading_level=\"3\">\n",
       "<SigArgSection>\n",
       "<SigArg name=\"temp_dir_root\" default=\"None\" /><SigArg name=\"init_dir\" default=\"False\" />\n",
       "</SigArgSection>\n",
       "\n",
       "<ParamSection name=\"Attributes\">\n",
       "\t<Parameter name=\"directory\" desc=\"The directory where a checkpoint is loaded\\n\\nReturns\\n-------\\nOptional[str]\\n    The directory where a checkpoint is loaded.\\n    If the checkpoint is not loaded, returns None.\" />\n",
       "</ParamSection>\n",
       "</DocSection>"
      ],
      "text/plain": [
       "<nbdoc.showdoc.ShowDoc at 0x7fb44f65e650>"
      ]
     },
     "execution_count": 11,
     "metadata": {},
     "output_type": "execute_result"
    }
   ],
   "source": [
    "ShowDoc(Checkpoint, show_import=True, skip_sections=[\"Mf Add To Current\"])"
   ]
  },
  {
   "cell_type": "code",
   "execution_count": 12,
   "metadata": {
    "execution": {
     "iopub.execute_input": "2025-06-05T19:31:34.075951Z",
     "iopub.status.busy": "2025-06-05T19:31:34.075669Z",
     "iopub.status.idle": "2025-06-05T19:31:34.080221Z",
     "shell.execute_reply": "2025-06-05T19:31:34.079857Z"
    }
   },
   "outputs": [
    {
     "data": {
      "text/html": [
       "<HTMLRemove>\n",
       "<h4> <code>method</code> <span style=\"color:Brown\">Checkpoint.save</span> <em>(self, path=None, metadata=None, latest=True, name='mfchckpt', storage_format='files') -> Dict</em></h4><p><blockquote>Saves&nbsp;the&nbsp;checkpoint&nbsp;to&nbsp;the&nbsp;datastore<br><br>Parameters<br>----------<br>path&nbsp;:&nbsp;Optional[Union[str,&nbsp;os.PathLike]],&nbsp;default:&nbsp;None<br>&nbsp;&nbsp;&nbsp;&nbsp;The&nbsp;path&nbsp;to&nbsp;save&nbsp;the&nbsp;checkpoint.&nbsp;Accepts&nbsp;a&nbsp;file&nbsp;path&nbsp;or&nbsp;a&nbsp;directory&nbsp;path.<br>&nbsp;&nbsp;&nbsp;&nbsp;&nbsp;&nbsp;&nbsp;&nbsp;-&nbsp;If&nbsp;a&nbsp;directory&nbsp;path&nbsp;is&nbsp;provided,&nbsp;all&nbsp;the&nbsp;contents&nbsp;within&nbsp;that&nbsp;directory&nbsp;will&nbsp;be&nbsp;saved.<br>&nbsp;&nbsp;&nbsp;&nbsp;&nbsp;&nbsp;&nbsp;&nbsp;When&nbsp;a&nbsp;checkpoint&nbsp;is&nbsp;reloaded&nbsp;during&nbsp;task&nbsp;retries,&nbsp;`the&nbsp;current.checkpoint.directory`&nbsp;will<br>&nbsp;&nbsp;&nbsp;&nbsp;&nbsp;&nbsp;&nbsp;&nbsp;contain&nbsp;the&nbsp;contents&nbsp;of&nbsp;this&nbsp;directory.<br>&nbsp;&nbsp;&nbsp;&nbsp;&nbsp;&nbsp;&nbsp;&nbsp;-&nbsp;If&nbsp;a&nbsp;file&nbsp;path&nbsp;is&nbsp;provided,&nbsp;the&nbsp;file&nbsp;will&nbsp;be&nbsp;directly&nbsp;saved&nbsp;to&nbsp;the&nbsp;datastore&nbsp;(with&nbsp;the&nbsp;same&nbsp;filename).<br>&nbsp;&nbsp;&nbsp;&nbsp;&nbsp;&nbsp;&nbsp;&nbsp;When&nbsp;the&nbsp;checkpoint&nbsp;is&nbsp;reloaded&nbsp;during&nbsp;task&nbsp;retries,&nbsp;the&nbsp;file&nbsp;with&nbsp;the&nbsp;same&nbsp;name&nbsp;will&nbsp;be&nbsp;available&nbsp;in&nbsp;the<br>&nbsp;&nbsp;&nbsp;&nbsp;&nbsp;&nbsp;&nbsp;&nbsp;`current.checkpoint.directory`.<br>&nbsp;&nbsp;&nbsp;&nbsp;&nbsp;&nbsp;&nbsp;&nbsp;-&nbsp;If&nbsp;no&nbsp;path&nbsp;is&nbsp;provided&nbsp;then&nbsp;the&nbsp;`Checkpoint.directory`&nbsp;will&nbsp;be&nbsp;saved&nbsp;as&nbsp;the&nbsp;checkpoint.<br><br>name&nbsp;:&nbsp;Optional[str],&nbsp;default:&nbsp;\"mfchckpt\"<br>&nbsp;&nbsp;&nbsp;&nbsp;The&nbsp;name&nbsp;of&nbsp;the&nbsp;checkpoint.<br><br>metadata&nbsp;:&nbsp;Optional[Dict],&nbsp;default:&nbsp;{}<br>&nbsp;&nbsp;&nbsp;&nbsp;Any&nbsp;metadata&nbsp;that&nbsp;needs&nbsp;to&nbsp;be&nbsp;saved&nbsp;with&nbsp;the&nbsp;checkpoint.<br><br>latest&nbsp;:&nbsp;bool,&nbsp;default:&nbsp;True<br>&nbsp;&nbsp;&nbsp;&nbsp;If&nbsp;True,&nbsp;the&nbsp;checkpoint&nbsp;will&nbsp;be&nbsp;marked&nbsp;as&nbsp;the&nbsp;latest&nbsp;checkpoint.<br>&nbsp;&nbsp;&nbsp;&nbsp;This&nbsp;helps&nbsp;determine&nbsp;if&nbsp;the&nbsp;checkpoint&nbsp;gets&nbsp;loaded&nbsp;when&nbsp;the&nbsp;task&nbsp;restarts.<br><br>storage_format&nbsp;:&nbsp;str,&nbsp;default:&nbsp;files<br>&nbsp;&nbsp;&nbsp;&nbsp;If&nbsp;`tar`,&nbsp;the&nbsp;contents&nbsp;of&nbsp;the&nbsp;directory&nbsp;will&nbsp;be&nbsp;tarred&nbsp;before&nbsp;saving&nbsp;to&nbsp;the&nbsp;datastore.<br>&nbsp;&nbsp;&nbsp;&nbsp;If&nbsp;`files`,&nbsp;saves&nbsp;directory&nbsp;directly&nbsp;to&nbsp;the&nbsp;datastore.</blockquote></p>\n",
       "</HTMLRemove>\n",
       "<DocSection type=\"method\" name=\"Checkpoint.save\" module=\"metaflow\" show_import=\"False\" heading_level=\"4\">\n",
       "<SigArgSection>\n",
       "<SigArg name=\"self\" /><SigArg name=\"path\" default=\"None\" /><SigArg name=\"metadata\" default=\"None\" /><SigArg name=\"latest\" default=\"True\" /><SigArg name=\"name\" default=\"mfchckpt\" /><SigArg name=\"storage_format\" default=\"files\" />\n",
       "</SigArgSection>\n",
       "<Description summary=\"Saves the checkpoint to the datastore\" />\n",
       "<ParamSection name=\"Parameters\">\n",
       "\t<Parameter name=\"path\" type=\"Optional[Union[str, os.PathLike]], default: None\" desc=\"The path to save the checkpoint. Accepts a file path or a directory path.\\n    - If a directory path is provided, all the contents within that directory will be saved.\\n    When a checkpoint is reloaded during task retries, `the current.checkpoint.directory` will\\n    contain the contents of this directory.\\n    - If a file path is provided, the file will be directly saved to the datastore (with the same filename).\\n    When the checkpoint is reloaded during task retries, the file with the same name will be available in the\\n    `current.checkpoint.directory`.\\n    - If no path is provided then the `Checkpoint.directory` will be saved as the checkpoint.\" />\n",
       "\t<Parameter name=\"name\" type=\"Optional[str], default: \"mfchckpt\"\" desc=\"The name of the checkpoint.\" />\n",
       "\t<Parameter name=\"metadata\" type=\"Optional[Dict], default: {}\" desc=\"Any metadata that needs to be saved with the checkpoint.\" />\n",
       "\t<Parameter name=\"latest\" type=\"bool, default: True\" desc=\"If True, the checkpoint will be marked as the latest checkpoint.\\nThis helps determine if the checkpoint gets loaded when the task restarts.\" />\n",
       "\t<Parameter name=\"storage_format\" type=\"str, default: files\" desc=\"If `tar`, the contents of the directory will be tarred before saving to the datastore.\\nIf `files`, saves directory directly to the datastore.\" />\n",
       "</ParamSection>\n",
       "</DocSection>"
      ],
      "text/plain": [
       "<nbdoc.showdoc.ShowDoc at 0x7fb44f698150>"
      ]
     },
     "execution_count": 12,
     "metadata": {},
     "output_type": "execute_result"
    }
   ],
   "source": [
    "ShowDoc(Checkpoint.save, show_import=False, skip_sections=[\"Mf Add To Current\"])"
   ]
  },
  {
   "cell_type": "code",
   "execution_count": 13,
   "metadata": {
    "execution": {
     "iopub.execute_input": "2025-06-05T19:31:34.081982Z",
     "iopub.status.busy": "2025-06-05T19:31:34.081708Z",
     "iopub.status.idle": "2025-06-05T19:31:34.085361Z",
     "shell.execute_reply": "2025-06-05T19:31:34.084979Z"
    }
   },
   "outputs": [
    {
     "data": {
      "text/html": [
       "<HTMLRemove>\n",
       "<h4> <code>method</code> <span style=\"color:Brown\">Checkpoint.load</span> <em>(self, reference: Union[str, Dict, metaflow_extensions.obcheckpoint.plugins.machine_learning_utilities.datastructures.CheckpointArtifact], path: Optional[str] = None)</em></h4><p><blockquote>loads&nbsp;a&nbsp;checkpoint&nbsp;reference&nbsp;from&nbsp;the&nbsp;datastore.&nbsp;(resembles&nbsp;a&nbsp;read&nbsp;op)<br><br>Parameters<br>----------<br><br>`reference`&nbsp;:<br>&nbsp;&nbsp;&nbsp;&nbsp;-&nbsp;can&nbsp;be&nbsp;a&nbsp;string,&nbsp;dict&nbsp;or&nbsp;a&nbsp;CheckpointArtifact&nbsp;object:<br>&nbsp;&nbsp;&nbsp;&nbsp;&nbsp;&nbsp;&nbsp;&nbsp;-&nbsp;string:&nbsp;a&nbsp;string&nbsp;reference&nbsp;to&nbsp;the&nbsp;checkpoint&nbsp;(checkpoint&nbsp;key)<br>&nbsp;&nbsp;&nbsp;&nbsp;&nbsp;&nbsp;&nbsp;&nbsp;-&nbsp;dict:&nbsp;a&nbsp;dictionary&nbsp;reference&nbsp;to&nbsp;the&nbsp;checkpoint<br>&nbsp;&nbsp;&nbsp;&nbsp;&nbsp;&nbsp;&nbsp;&nbsp;-&nbsp;CheckpointArtifact:&nbsp;a&nbsp;CheckpointArtifact&nbsp;object&nbsp;reference&nbsp;to&nbsp;the&nbsp;checkpoint</blockquote></p>\n",
       "</HTMLRemove>\n",
       "<DocSection type=\"method\" name=\"Checkpoint.load\" module=\"metaflow\" show_import=\"False\" heading_level=\"4\">\n",
       "<SigArgSection>\n",
       "<SigArg name=\"self\" /><SigArg name=\"reference\" type=\"Union\" /><SigArg name=\"path\" type=\"Optional\" default=\"None\" />\n",
       "</SigArgSection>\n",
       "<Description summary=\"loads a checkpoint reference from the datastore. (resembles a read op)\" />\n",
       "<ParamSection name=\"Parameters\">\n",
       "\t<Parameter name=\"`reference`\" desc=\"- can be a string, dict or a CheckpointArtifact object:\\n    - string: a string reference to the checkpoint (checkpoint key)\\n    - dict: a dictionary reference to the checkpoint\\n    - CheckpointArtifact: a CheckpointArtifact object reference to the checkpoint\" />\n",
       "</ParamSection>\n",
       "</DocSection>"
      ],
      "text/plain": [
       "<nbdoc.showdoc.ShowDoc at 0x7fb465d59010>"
      ]
     },
     "execution_count": 13,
     "metadata": {},
     "output_type": "execute_result"
    }
   ],
   "source": [
    "ShowDoc(Checkpoint.load, show_import=False, skip_sections=[\"Mf Add To Current\"])"
   ]
  },
  {
   "cell_type": "code",
   "execution_count": 14,
   "metadata": {
    "execution": {
     "iopub.execute_input": "2025-06-05T19:31:34.087690Z",
     "iopub.status.busy": "2025-06-05T19:31:34.087353Z",
     "iopub.status.idle": "2025-06-05T19:31:34.092341Z",
     "shell.execute_reply": "2025-06-05T19:31:34.091985Z"
    }
   },
   "outputs": [
    {
     "data": {
      "text/html": [
       "<HTMLRemove>\n",
       "<h4> <code>method</code> <span style=\"color:Brown\">Checkpoint.list</span> <em>(self, name: Optional[str] = None, task: Union[ForwardRef('metaflow.Task'), str, NoneType] = None, attempt: Union[int, str, NoneType] = None, full_namespace: bool = False, as_dict: bool = True) -> List[Union[Dict, metaflow_extensions.obcheckpoint.plugins.machine_learning_utilities.datastructures.CheckpointArtifact]]</em></h4><p><blockquote>lists&nbsp;the&nbsp;checkpoints&nbsp;in&nbsp;the&nbsp;current&nbsp;task&nbsp;or&nbsp;the&nbsp;specified&nbsp;task.<br><br>When&nbsp;users&nbsp;call&nbsp;`list`&nbsp;without&nbsp;any&nbsp;arguments,&nbsp;it&nbsp;will&nbsp;list&nbsp;all&nbsp;the&nbsp;checkpoints&nbsp;in&nbsp;the&nbsp;currently&nbsp;executing<br>task&nbsp;(this&nbsp;includes&nbsp;all&nbsp;attempts).&nbsp;If&nbsp;the&nbsp;`list`&nbsp;method&nbsp;is&nbsp;called&nbsp;without&nbsp;any&nbsp;arguments&nbsp;outside&nbsp;a&nbsp;Metaflow&nbsp;Task&nbsp;execution&nbsp;context,<br>it&nbsp;will&nbsp;raise&nbsp;an&nbsp;exception.&nbsp;Users&nbsp;can&nbsp;also&nbsp;call&nbsp;`list`&nbsp;with&nbsp;`attempt`&nbsp;argument&nbsp;to&nbsp;list&nbsp;all&nbsp;checkpoints&nbsp;within&nbsp;a<br>the&nbsp;specific&nbsp;attempt&nbsp;of&nbsp;the&nbsp;currently&nbsp;executing&nbsp;task.<br><br>When&nbsp;a&nbsp;`task`&nbsp;argument&nbsp;is&nbsp;provided,&nbsp;the&nbsp;`list`&nbsp;method&nbsp;will&nbsp;return&nbsp;all&nbsp;the&nbsp;checkpoints<br>for&nbsp;a&nbsp;task's&nbsp;latest&nbsp;attempt&nbsp;unless&nbsp;a&nbsp;specific&nbsp;attempt&nbsp;number&nbsp;is&nbsp;set&nbsp;in&nbsp;the&nbsp;`attempt`&nbsp;argument.<br>If&nbsp;the&nbsp;`Task`&nbsp;object&nbsp;contains&nbsp;a&nbsp;`DataArtifact`&nbsp;with&nbsp;all&nbsp;the&nbsp;previous&nbsp;checkpoints,&nbsp;then&nbsp;the&nbsp;`list`&nbsp;method&nbsp;will&nbsp;return<br>all&nbsp;the&nbsp;checkpoints&nbsp;from&nbsp;the&nbsp;data&nbsp;artifact.&nbsp;If&nbsp;for&nbsp;some&nbsp;reason&nbsp;the&nbsp;DataArtifact&nbsp;is&nbsp;not&nbsp;written,&nbsp;then&nbsp;the&nbsp;`list`&nbsp;method&nbsp;will<br>return&nbsp;all&nbsp;checkpoints&nbsp;directly&nbsp;from&nbsp;the&nbsp;checkpoint's&nbsp;datastore.<br><br>Examples<br>--------<br><br>```python<br><br>Checkpoint().list(name=\"best\")&nbsp;#&nbsp;lists&nbsp;checkpoints&nbsp;in&nbsp;the&nbsp;current&nbsp;task&nbsp;with&nbsp;the&nbsp;name&nbsp;\"best\"<br>Checkpoint().list(task=\"anotherflow/somerunid/somestep/sometask\",&nbsp;name=\"best\")&nbsp;#&nbsp;Identical&nbsp;as&nbsp;the&nbsp;above&nbsp;one&nbsp;but<br>Checkpoint().list()&nbsp;#&nbsp;lists&nbsp;**all**&nbsp;the&nbsp;checkpoints&nbsp;in&nbsp;the&nbsp;current&nbsp;task&nbsp;(including&nbsp;the&nbsp;ones&nbsp;from&nbsp;all&nbsp;attempts)<br><br>```<br><br>Parameters<br>----------<br><br>name&nbsp;:&nbsp;Optional[str],&nbsp;default:&nbsp;None<br>&nbsp;&nbsp;&nbsp;&nbsp;Filter&nbsp;checkpoints&nbsp;by&nbsp;name.<br><br>task&nbsp;:&nbsp;Optional[Union[\"metaflow.Task\",&nbsp;str]],&nbsp;default:&nbsp;None<br>&nbsp;&nbsp;&nbsp;&nbsp;The&nbsp;task&nbsp;to&nbsp;list&nbsp;checkpoints&nbsp;from.&nbsp;Can&nbsp;be&nbsp;either&nbsp;a&nbsp;`Task`&nbsp;object&nbsp;or&nbsp;a&nbsp;task&nbsp;pathspec&nbsp;string.<br>&nbsp;&nbsp;&nbsp;&nbsp;If&nbsp;None,&nbsp;lists&nbsp;checkpoints&nbsp;for&nbsp;the&nbsp;current&nbsp;task.<br>&nbsp;&nbsp;&nbsp;&nbsp;Raises&nbsp;an&nbsp;exception&nbsp;if&nbsp;task&nbsp;is&nbsp;not&nbsp;provided&nbsp;when&nbsp;called&nbsp;outside&nbsp;a&nbsp;Metaflow&nbsp;Task&nbsp;execution&nbsp;context.<br><br>attempt&nbsp;:&nbsp;Optional[Union[int,&nbsp;str]],&nbsp;default:&nbsp;None<br>&nbsp;&nbsp;&nbsp;&nbsp;Filter&nbsp;checkpoints&nbsp;by&nbsp;attempt.<br>&nbsp;&nbsp;&nbsp;&nbsp;If&nbsp;`task`&nbsp;is&nbsp;not&nbsp;None&nbsp;and&nbsp;`attempt`&nbsp;is&nbsp;None,&nbsp;then&nbsp;it&nbsp;will&nbsp;load&nbsp;the&nbsp;task's&nbsp;latest&nbsp;attempt<br><br>full_namespace&nbsp;:&nbsp;bool,&nbsp;default:&nbsp;False<br>&nbsp;&nbsp;&nbsp;&nbsp;If&nbsp;True,&nbsp;lists&nbsp;checkpoints&nbsp;from&nbsp;the&nbsp;full&nbsp;namespace.<br>&nbsp;&nbsp;&nbsp;&nbsp;Only&nbsp;allowed&nbsp;during&nbsp;a&nbsp;Metaflow&nbsp;Task&nbsp;execution&nbsp;context.<br>&nbsp;&nbsp;&nbsp;&nbsp;Raises&nbsp;an&nbsp;exception&nbsp;if&nbsp;`full_namespace`&nbsp;is&nbsp;set&nbsp;to&nbsp;True&nbsp;when&nbsp;called&nbsp;outside&nbsp;a&nbsp;Metaflow&nbsp;Task&nbsp;execution&nbsp;context.<br><br>Returns<br>-------<br>List[Dict]</blockquote></p>\n",
       "</HTMLRemove>\n",
       "<DocSection type=\"method\" name=\"Checkpoint.list\" module=\"metaflow\" show_import=\"False\" heading_level=\"4\">\n",
       "<SigArgSection>\n",
       "<SigArg name=\"self\" /><SigArg name=\"name\" type=\"Optional\" default=\"None\" /><SigArg name=\"task\" type=\"Union\" default=\"None\" /><SigArg name=\"attempt\" type=\"Union\" default=\"None\" /><SigArg name=\"full_namespace\" type=\"bool\" default=\"False\" /><SigArg name=\"as_dict\" type=\"bool\" default=\"True\" />\n",
       "</SigArgSection>\n",
       "<Description summary=\"lists the checkpoints in the current task or the specified task.\" extended_summary=\"When users call `list` without any arguments, it will list all the checkpoints in the currently executing\\ntask (this includes all attempts). If the `list` method is called without any arguments outside a Metaflow Task execution context,\\nit will raise an exception. Users can also call `list` with `attempt` argument to list all checkpoints within a\\nthe specific attempt of the currently executing task.\\n\\nWhen a `task` argument is provided, the `list` method will return all the checkpoints\\nfor a task's latest attempt unless a specific attempt number is set in the `attempt` argument.\\nIf the `Task` object contains a `DataArtifact` with all the previous checkpoints, then the `list` method will return\\nall the checkpoints from the data artifact. If for some reason the DataArtifact is not written, then the `list` method will\\nreturn all checkpoints directly from the checkpoint's datastore.\" />\n",
       "<ParamSection name=\"Parameters\">\n",
       "\t<Parameter name=\"name\" type=\"Optional[str], default: None\" desc=\"Filter checkpoints by name.\" />\n",
       "\t<Parameter name=\"task\" type=\"Optional[Union[\"metaflow.Task\", str]], default: None\" desc=\"The task to list checkpoints from. Can be either a `Task` object or a task pathspec string.\\nIf None, lists checkpoints for the current task.\\nRaises an exception if task is not provided when called outside a Metaflow Task execution context.\" />\n",
       "\t<Parameter name=\"attempt\" type=\"Optional[Union[int, str]], default: None\" desc=\"Filter checkpoints by attempt.\\nIf `task` is not None and `attempt` is None, then it will load the task's latest attempt\" />\n",
       "\t<Parameter name=\"full_namespace\" type=\"bool, default: False\" desc=\"If True, lists checkpoints from the full namespace.\\nOnly allowed during a Metaflow Task execution context.\\nRaises an exception if `full_namespace` is set to True when called outside a Metaflow Task execution context.\" />\n",
       "</ParamSection>\n",
       "<ParamSection name=\"Returns\">\n",
       "\t<Parameter type=\"List[Dict]\" />\n",
       "</ParamSection>\n",
       "</DocSection>"
      ],
      "text/plain": [
       "<nbdoc.showdoc.ShowDoc at 0x7fb44f69aed0>"
      ]
     },
     "execution_count": 14,
     "metadata": {},
     "output_type": "execute_result"
    }
   ],
   "source": [
    "ShowDoc(Checkpoint.list, show_import=False, skip_sections=[\"Mf Add To Current\"])"
   ]
  },
  {
   "cell_type": "code",
   "execution_count": 15,
   "metadata": {
    "execution": {
     "iopub.execute_input": "2025-06-05T19:31:34.094363Z",
     "iopub.status.busy": "2025-06-05T19:31:34.094020Z",
     "iopub.status.idle": "2025-06-05T19:31:34.097081Z",
     "shell.execute_reply": "2025-06-05T19:31:34.096713Z"
    }
   },
   "outputs": [
    {
     "data": {
      "text/html": [
       "<HTMLRemove>\n",
       "<h4> <code>property</code> <span style=\"color:Brown\">current.checkpoint.directory</span> <em></em></h4><p><blockquote>The&nbsp;directory&nbsp;where&nbsp;a&nbsp;checkpoint&nbsp;is&nbsp;loaded<br><br>Returns<br>-------<br>Optional[str]<br>&nbsp;&nbsp;&nbsp;&nbsp;The&nbsp;directory&nbsp;where&nbsp;a&nbsp;checkpoint&nbsp;is&nbsp;loaded.<br>&nbsp;&nbsp;&nbsp;&nbsp;If&nbsp;the&nbsp;checkpoint&nbsp;is&nbsp;not&nbsp;loaded,&nbsp;returns&nbsp;None.</blockquote></p>\n",
       "</HTMLRemove>\n",
       "<DocSection type=\"property\" name=\"current.checkpoint.directory\" module=\"metaflow_extensions.obcheckpoint.plugins.machine_learning_utilities.checkpoints.final_api\" show_import=\"False\" heading_level=\"4\">\n",
       "\n",
       "<Description summary=\"The directory where a checkpoint is loaded\\n\" />\n",
       "</DocSection>"
      ],
      "text/plain": [
       "<nbdoc.showdoc.ShowDoc at 0x7fb44f699a50>"
      ]
     },
     "execution_count": 15,
     "metadata": {},
     "output_type": "execute_result"
    }
   ],
   "source": [
    "ShowDoc(Checkpoint.directory, show_import=False, skip_sections=[\"Mf Add To Current\"], name=\"current.checkpoint.directory\")"
   ]
  },
  {
   "cell_type": "code",
   "execution_count": null,
   "metadata": {},
   "outputs": [],
   "source": []
  }
 ],
 "metadata": {
  "kernelspec": {
   "display_name": "mf-modeling-utils",
   "language": "python",
   "name": "python3"
  },
  "language_info": {
   "codemirror_mode": {
    "name": "ipython",
    "version": 3
   },
   "file_extension": ".py",
   "mimetype": "text/x-python",
   "name": "python",
   "nbconvert_exporter": "python",
   "pygments_lexer": "ipython3",
   "version": "3.11.9"
  }
 },
 "nbformat": 4,
 "nbformat_minor": 2
}
